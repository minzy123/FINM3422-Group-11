{
 "cells": [
  {
   "cell_type": "code",
   "execution_count": 1,
   "id": "137a2f46",
   "metadata": {},
   "outputs": [
    {
     "name": "stdout",
     "output_type": "stream",
     "text": [
      "Requirement already satisfied: newsapi-python in /usr/local/python/3.12.1/lib/python3.12/site-packages (0.2.7)\n",
      "Requirement already satisfied: requests<3.0.0 in /home/codespace/.local/lib/python3.12/site-packages (from newsapi-python) (2.32.3)\n",
      "Requirement already satisfied: charset-normalizer<4,>=2 in /home/codespace/.local/lib/python3.12/site-packages (from requests<3.0.0->newsapi-python) (3.4.1)\n",
      "Requirement already satisfied: idna<4,>=2.5 in /home/codespace/.local/lib/python3.12/site-packages (from requests<3.0.0->newsapi-python) (3.10)\n",
      "Requirement already satisfied: urllib3<3,>=1.21.1 in /home/codespace/.local/lib/python3.12/site-packages (from requests<3.0.0->newsapi-python) (2.3.0)\n",
      "Requirement already satisfied: certifi>=2017.4.17 in /home/codespace/.local/lib/python3.12/site-packages (from requests<3.0.0->newsapi-python) (2025.1.31)\n",
      "Requirement already satisfied: key in /usr/local/python/3.12.1/lib/python3.12/site-packages (0.4)\n"
     ]
    }
   ],
   "source": [
    "!pip install newsapi-python\n",
    "!pip install key\n"
   ]
  },
  {
   "cell_type": "code",
   "execution_count": 2,
   "id": "7b17a85e",
   "metadata": {},
   "outputs": [],
   "source": [
    "from newsapi import NewsApiClient\n",
    "from key import my_api_key\n",
    "import datetime as dt\n",
    "import pandas as pd\n",
    "\n",
    "pd.set_option('display.max_colwidth', None)"
   ]
  },
  {
   "cell_type": "code",
   "execution_count": 3,
   "id": "a5bdafdc",
   "metadata": {},
   "outputs": [],
   "source": [
    "newsapi = NewsApiClient(api_key = my_api_key)"
   ]
  },
  {
   "cell_type": "code",
   "execution_count": 4,
   "id": "54c23d33",
   "metadata": {},
   "outputs": [],
   "source": [
    "data = newsapi.get_everything(q='TPG Telecom', language = 'en')"
   ]
  },
  {
   "cell_type": "code",
   "execution_count": 5,
   "id": "55f58300",
   "metadata": {},
   "outputs": [
    {
     "data": {
      "text/plain": [
       "15"
      ]
     },
     "execution_count": 5,
     "metadata": {},
     "output_type": "execute_result"
    }
   ],
   "source": [
    "data['totalResults']"
   ]
  },
  {
   "cell_type": "code",
   "execution_count": 6,
   "id": "04a62f94",
   "metadata": {},
   "outputs": [
    {
     "data": {
      "text/plain": [
       "{'source': {'id': None, 'name': 'Kentik.com'},\n",
       " 'author': None,\n",
       " 'title': 'DDoS Mitigation Leak',\n",
       " 'description': 'In this edition of Beyond Their Intended Scope, we take a look at last week’s BGP leak by a DDoS mitigation company which impacted networks around the world. We look at the impacts in both BGP and traffic data, and discuss how RFC 9234’s “Only to Customer” BG…',\n",
       " 'url': 'https://www.kentik.com/blog/beyond-their-intended-scope-ddos-mitigation-leak/',\n",
       " 'urlToImage': 'https://images.ctfassets.net/6yom6slo28h2/42btGaEeULlyrQZ6hNslqc/f59dd066fca746b42f1e160fe6e5c90a/beyond-their-intended-scope-voxility.png',\n",
       " 'publishedAt': '2025-04-08T17:41:24Z',\n",
       " 'content': 'SubscribeSummary\\r\\nIn this edition of Beyond Their Intended Scope, we take a look at last weeks BGP leak by a DDoS mitigation company which impacted networks around the world. We look at the impacts i… [+11797 chars]'}"
      ]
     },
     "execution_count": 6,
     "metadata": {},
     "output_type": "execute_result"
    }
   ],
   "source": [
    "data['articles'][0]"
   ]
  },
  {
   "cell_type": "code",
   "execution_count": 7,
   "id": "a7d33bdf",
   "metadata": {},
   "outputs": [],
   "source": [
    "articles = data['articles']"
   ]
  },
  {
   "cell_type": "code",
   "execution_count": 8,
   "id": "34cd5685",
   "metadata": {},
   "outputs": [
    {
     "name": "stdout",
     "output_type": "stream",
     "text": [
      "0 DDoS Mitigation Leak\n",
      "1 Tech, Media & Telecom Roundup: Market Talk\n",
      "2 Inaki Berroeta Buys 335,102 Shares of TPG Telecom Limited (ASX:TPG) Stock\n",
      "3 In Memoriam: The 31 Billionaires Who Died Over The Past Year\n",
      "4 Singapore Telecoms Industry Report 2025, with Detailed Operator Profiles and Forecasts for Singtel, Starhub, M1 and Simba\n",
      "5 2 ASX growth shares I'd buy to try to beat the market\n",
      "6 Should I buy Brickworks or Soul Patts shares?\n",
      "7 If I could only own 1 ASX stock, it would be this one\n",
      "8 2 ASX shares I think are fantastic for beginners\n",
      "9 Australia’s TPG yearns for the simple life\n",
      "10 [NANOG] Weekly Global IPv4 Routing Table Report\n",
      "11 [NANOG] Weekly Global IPv4 Routing Table Report\n",
      "12 [NANOG] Weekly Global IPv4 Routing Table Report\n",
      "13 [NANOG] Weekly Global IPv4 Routing Table Report\n",
      "14 Satellite and 6G technology set to revolutionise emergency services\n"
     ]
    }
   ],
   "source": [
    "for x,y in enumerate(articles):\n",
    "    print(f'{x} {y[\"title\"]}')"
   ]
  },
  {
   "cell_type": "code",
   "execution_count": 9,
   "id": "b87a6afc",
   "metadata": {},
   "outputs": [
    {
     "name": "stdout",
     "output_type": "stream",
     "text": [
      "\n",
      "source         {'id': None, 'name': 'Kentik.com'}\n",
      "\n",
      "author         None\n",
      "\n",
      "title          DDoS Mitigation Leak\n",
      "\n",
      "description    In this edition of Beyond Their Intended Scope, we take a look at last week’s BGP leak by a DDoS mitigation company which impacted networks around the world. We look at the impacts in both BGP and traffic data, and discuss how RFC 9234’s “Only to Customer” BG…\n",
      "\n",
      "url            https://www.kentik.com/blog/beyond-their-intended-scope-ddos-mitigation-leak/\n",
      "\n",
      "urlToImage     https://images.ctfassets.net/6yom6slo28h2/42btGaEeULlyrQZ6hNslqc/f59dd066fca746b42f1e160fe6e5c90a/beyond-their-intended-scope-voxility.png\n",
      "\n",
      "publishedAt    2025-04-08T17:41:24Z\n",
      "\n",
      "content        SubscribeSummary\n",
      "In this edition of Beyond Their Intended Scope, we take a look at last weeks BGP leak by a DDoS mitigation company which impacted networks around the world. We look at the impacts i… [+11797 chars]\n"
     ]
    }
   ],
   "source": [
    "for key, value in articles[0].items():\n",
    "    print(f\"\\n{key.ljust(15)}{value}\")"
   ]
  },
  {
   "cell_type": "code",
   "execution_count": 10,
   "id": "409e6a5f",
   "metadata": {},
   "outputs": [
    {
     "data": {
      "text/html": [
       "<div>\n",
       "<style scoped>\n",
       "    .dataframe tbody tr th:only-of-type {\n",
       "        vertical-align: middle;\n",
       "    }\n",
       "\n",
       "    .dataframe tbody tr th {\n",
       "        vertical-align: top;\n",
       "    }\n",
       "\n",
       "    .dataframe thead th {\n",
       "        text-align: right;\n",
       "    }\n",
       "</style>\n",
       "<table border=\"1\" class=\"dataframe\">\n",
       "  <thead>\n",
       "    <tr style=\"text-align: right;\">\n",
       "      <th></th>\n",
       "      <th>source</th>\n",
       "      <th>author</th>\n",
       "      <th>title</th>\n",
       "      <th>description</th>\n",
       "      <th>url</th>\n",
       "      <th>urlToImage</th>\n",
       "      <th>publishedAt</th>\n",
       "      <th>content</th>\n",
       "    </tr>\n",
       "  </thead>\n",
       "  <tbody>\n",
       "    <tr>\n",
       "      <th>0</th>\n",
       "      <td>{'id': None, 'name': 'Kentik.com'}</td>\n",
       "      <td>None</td>\n",
       "      <td>DDoS Mitigation Leak</td>\n",
       "      <td>In this edition of Beyond Their Intended Scope, we take a look at last week’s BGP leak by a DDoS mitigation company which impacted networks around the world. We look at the impacts in both BGP and traffic data, and discuss how RFC 9234’s “Only to Customer” BG…</td>\n",
       "      <td>https://www.kentik.com/blog/beyond-their-intended-scope-ddos-mitigation-leak/</td>\n",
       "      <td>https://images.ctfassets.net/6yom6slo28h2/42btGaEeULlyrQZ6hNslqc/f59dd066fca746b42f1e160fe6e5c90a/beyond-their-intended-scope-voxility.png</td>\n",
       "      <td>2025-04-08T17:41:24Z</td>\n",
       "      <td>SubscribeSummary\\r\\nIn this edition of Beyond Their Intended Scope, we take a look at last weeks BGP leak by a DDoS mitigation company which impacted networks around the world. We look at the impacts i… [+11797 chars]</td>\n",
       "    </tr>\n",
       "    <tr>\n",
       "      <th>1</th>\n",
       "      <td>{'id': None, 'name': 'Biztoc.com'}</td>\n",
       "      <td>wsj.com</td>\n",
       "      <td>Tech, Media &amp; Telecom Roundup: Market Talk</td>\n",
       "      <td>Find insight on Asean, TPG Telecom and more in the latest Market Talks covering Technology, Media and Telecom.</td>\n",
       "      <td>https://biztoc.com/x/444843442859d4ce</td>\n",
       "      <td>https://biztoc.com/cdn/928/og.png</td>\n",
       "      <td>2025-03-24T08:54:27Z</td>\n",
       "      <td>Find insight on Asean, TPG Telecom and more in the latest Market Talks covering Technology, Media and Telecom.\\r\\nThis story appeared on wsj.com, 2025-03-24 08:40:00.</td>\n",
       "    </tr>\n",
       "    <tr>\n",
       "      <th>2</th>\n",
       "      <td>{'id': None, 'name': 'ETF Daily News'}</td>\n",
       "      <td>MarketBeat News</td>\n",
       "      <td>Inaki Berroeta Buys 335,102 Shares of TPG Telecom Limited (ASX:TPG) Stock</td>\n",
       "      <td>TPG Telecom Limited (ASX:TPG – Get Free Report) insider Inaki Berroeta bought 335,102 shares of the firm’s stock in a transaction on Monday, March 31st. The shares were bought at an average price of A$4.80 ($2.96) per share, for a total transaction of A$1,608…</td>\n",
       "      <td>https://www.etfdailynews.com/2025/04/10/inaki-berroeta-buys-335102-shares-of-tpg-telecom-limited-asxtpg-stock/</td>\n",
       "      <td>https://www.americanbankingnews.com/wp-content/timthumb/timthumb.php?src=https://www.marketbeat.com/logos/tpg-telecom-limited-logo-1200x675.png?v=20211118121122&amp;w=240&amp;h=240&amp;zc=2</td>\n",
       "      <td>2025-04-10T08:12:54Z</td>\n",
       "      <td>TPG Telecom Limited (ASX:TPG – Get Free Report) insider Inaki Berroeta bought 335,102 shares of the firm’s stock in a transaction on Monday, March 31st. The shares were bought at an average price of … [+1485 chars]</td>\n",
       "    </tr>\n",
       "    <tr>\n",
       "      <th>3</th>\n",
       "      <td>{'id': None, 'name': 'Forbes'}</td>\n",
       "      <td>Roy Canivel, Forbes Staff, \\n Roy Canivel, Forbes Staff\\n https://www.forbes.com/sites/roycanivel/</td>\n",
       "      <td>In Memoriam: The 31 Billionaires Who Died Over The Past Year</td>\n",
       "      <td>From cable television magnates to fashion moguls to casino bosses, these billionaires have passed away since the 2024 Forbes list.</td>\n",
       "      <td>https://www.forbes.com/sites/roycanivel/2025/04/05/in-memoriam-the-31-billionaires-who-died-over-the-past-year/</td>\n",
       "      <td>https://imageio.forbes.com/specials-images/imageserve/67eae94a9c33b7363b67a48c/0x0.jpg?format=jpg&amp;height=900&amp;width=1600&amp;fit=bounds</td>\n",
       "      <td>2025-04-05T11:00:00Z</td>\n",
       "      <td>From cable television magnates to fashion moguls to casino bosses, these billionaires have passed away since the 2024 Forbes list.\\r\\nThe founder of HBO, a Macau casino magnate and one of the greatest … [+18050 chars]</td>\n",
       "    </tr>\n",
       "    <tr>\n",
       "      <th>4</th>\n",
       "      <td>{'id': None, 'name': 'GlobeNewswire'}</td>\n",
       "      <td>Research and Markets</td>\n",
       "      <td>Singapore Telecoms Industry Report 2025, with Detailed Operator Profiles and Forecasts for Singtel, Starhub, M1 and Simba</td>\n",
       "      <td>The report offers a deep dive into one of the world’s most advanced telecom markets. With mobile subscriptions, fixed broadband, and 5G investments on the rise, Singapore is positioning itself as a global leader in connectivity and innovation. The report incl…</td>\n",
       "      <td>https://www.globenewswire.com/news-release/2025/04/01/3053384/28124/en/Singapore-Telecoms-Industry-Report-2025-with-Detailed-Operator-Profiles-and-Forecasts-for-Singtel-Starhub-M1-and-Simba.html</td>\n",
       "      <td>https://ml.globenewswire.com/Resource/Download/908fb457-7f8e-4a08-9081-5565e3dfb3d7</td>\n",
       "      <td>2025-04-01T12:32:00Z</td>\n",
       "      <td>Dublin, April 01, 2025 (GLOBE NEWSWIRE) -- The \"Singapore Telecoms Industry Report -2031\" report has been added to ResearchAndMarkets.com's offering.\\r\\nThe Singapore Telecommunications Industry Report… [+10477 chars]</td>\n",
       "    </tr>\n",
       "    <tr>\n",
       "      <th>5</th>\n",
       "      <td>{'id': None, 'name': 'Motley Fool Australia'}</td>\n",
       "      <td>Tristan Harrison</td>\n",
       "      <td>2 ASX growth shares I'd buy to try to beat the market</td>\n",
       "      <td>Growth is usually a great way to achieve returns. \\nThe post 2 ASX growth shares I'd buy to try to beat the market appeared first on The Motley Fool Australia.</td>\n",
       "      <td>https://www.fool.com.au/2025/03/24/2-asx-growth-shares-id-buy-to-try-to-beat-the-market/</td>\n",
       "      <td>https://www.fool.com.au/wp-content/uploads/2024/01/two-colleagues-1200x675.jpg</td>\n",
       "      <td>2025-03-23T23:19:27Z</td>\n",
       "      <td>The ASX growth share space is a great place to hunt for opportunities that could beat the market. \\r\\nCompounding is a powerful economic force. As the genius Albert Einstein once said:\\r\\nCompound intere… [+2681 chars]</td>\n",
       "    </tr>\n",
       "    <tr>\n",
       "      <th>6</th>\n",
       "      <td>{'id': None, 'name': 'Motley Fool Australia'}</td>\n",
       "      <td>Sebastian Bowen</td>\n",
       "      <td>Should I buy Brickworks or Soul Patts shares?</td>\n",
       "      <td>Both of these stocks offer a two-for-one deal. \\nThe post Should I buy Brickworks or Soul Patts shares? appeared first on The Motley Fool Australia.</td>\n",
       "      <td>https://www.fool.com.au/2025/03/30/should-i-buy-brickworks-or-soul-patts-shares/</td>\n",
       "      <td>https://www.fool.com.au/wp-content/uploads/2022/05/Boy-chooses-which-door-16_9-1200x675.jpg</td>\n",
       "      <td>2025-03-29T18:30:00Z</td>\n",
       "      <td>Washington H. Soul Pattinson and Co Ltd (ASX: SOL) and Brickworks Ltd (ASX: BKW) are arguably two of the most interesting and impressive shares on the ASX.\\r\\nAt first glance, it might not seem like th… [+3217 chars]</td>\n",
       "    </tr>\n",
       "    <tr>\n",
       "      <th>7</th>\n",
       "      <td>{'id': None, 'name': 'Motley Fool Australia'}</td>\n",
       "      <td>Sebastian Bowen</td>\n",
       "      <td>If I could only own 1 ASX stock, it would be this one</td>\n",
       "      <td>This stock offers investors a bit of everything. \\nThe post If I could only own 1 ASX stock, it would be this one appeared first on The Motley Fool Australia.</td>\n",
       "      <td>https://www.fool.com.au/2025/04/02/if-i-could-only-own-1-asx-stock-it-would-be-this-one/</td>\n",
       "      <td>https://www.fool.com.au/wp-content/uploads/2023/09/GettyImages-1341398877-1-1200x675.jpg</td>\n",
       "      <td>2025-04-02T01:56:00Z</td>\n",
       "      <td>Like most ASX investors, I have a diversified portfolio of shares, both Australian and international. This portfolio includes many quality companies, many of which I've written extensively about in t… [+2842 chars]</td>\n",
       "    </tr>\n",
       "    <tr>\n",
       "      <th>8</th>\n",
       "      <td>{'id': None, 'name': 'Motley Fool Australia'}</td>\n",
       "      <td>Tristan Harrison</td>\n",
       "      <td>2 ASX shares I think are fantastic for beginners</td>\n",
       "      <td>I’m a big fan of both of these investments, here’s why…\\nThe post 2 ASX shares I think are fantastic for beginners appeared first on The Motley Fool Australia.</td>\n",
       "      <td>https://www.fool.com.au/2025/04/02/2-asx-shares-i-think-are-fantastic-for-beginners/</td>\n",
       "      <td>https://www.fool.com.au/wp-content/uploads/2020/08/Motley-Fool-AMP-SD-Logo.png</td>\n",
       "      <td>2025-04-02T02:48:51Z</td>\n",
       "      <td>I believe ASX shares are a great way for beginner investors to gain exposure to the stock market.\\r\\nInvesting in shares seems easier to me than residential property. It doesn't come with a massive loa… [+2968 chars]</td>\n",
       "    </tr>\n",
       "    <tr>\n",
       "      <th>9</th>\n",
       "      <td>{'id': None, 'name': 'TelecomTV'}</td>\n",
       "      <td>Ian Scales</td>\n",
       "      <td>Australia’s TPG yearns for the simple life</td>\n",
       "      <td>TPG Telecom is one of Australia’s largest telcosIt has a sprawling portfolio as a result of its 2020 merger with Vodafone Hutchison AustraliaNow the agreement …</td>\n",
       "      <td>https://www.telecomtv.com/content/access-evolution/australia-s-tpg-yearns-for-the-simple-life-52714/</td>\n",
       "      <td>https://assets.telecomtv.com/assets/telecomtv/tpg-telecom-20021.jpeg?w=1200</td>\n",
       "      <td>2025-04-01T12:22:09Z</td>\n",
       "      <td>With approval from Australia’s Competition and Consumer Commission (ACCC) for the AUS$5.25bn (US$3.28bn) sale of its fibre network infrastructure and EGW (Enterprise, Government and Wholesale) Fixed … [+3219 chars]</td>\n",
       "    </tr>\n",
       "    <tr>\n",
       "      <th>10</th>\n",
       "      <td>{'id': None, 'name': 'Seclists.org'}</td>\n",
       "      <td>None</td>\n",
       "      <td>[NANOG] Weekly Global IPv4 Routing Table Report</td>\n",
       "      <td>Posted by Routing Table Analysis Role Account via NANOG on Apr 04This is an automated weekly mailing describing the state of the Global\\nIPv4 Routing Table as seen from APNIC's router in Japan.\\n\\nThe posting is sent to APOPS, NANOG, AfNOG, SANOG, PacNOG, SAFNOG…</td>\n",
       "      <td>https://seclists.org/nanog/2025/Apr/35</td>\n",
       "      <td>https://seclists.org/images/nanog-img.png</td>\n",
       "      <td>2025-04-04T18:03:19Z</td>\n",
       "      <td>nanog\\r\\nmailing list archives\\r\\nFrom: Routing Table Analysis Role Account via NANOG &amp;lt;nanog () lists nanog org&amp;gt;Date: Sat, 5 Apr 2025 04:02:21 +1000 (AEST)\\r\\nThis is an automated weekly mailing desc… [+18691 chars]</td>\n",
       "    </tr>\n",
       "    <tr>\n",
       "      <th>11</th>\n",
       "      <td>{'id': None, 'name': 'Seclists.org'}</td>\n",
       "      <td>None</td>\n",
       "      <td>[NANOG] Weekly Global IPv4 Routing Table Report</td>\n",
       "      <td>Posted by Routing Table Analysis Role Account via NANOG on Apr 11This is an automated weekly mailing describing the state of the Global\\nIPv4 Routing Table as seen from APNIC's router in Japan.\\n\\nThe posting is sent to APOPS, NANOG, AfNOG, SANOG, PacNOG, SAFNOG…</td>\n",
       "      <td>https://seclists.org/nanog/2025/Apr/145</td>\n",
       "      <td>https://seclists.org/images/nanog-img.png</td>\n",
       "      <td>2025-04-11T18:03:08Z</td>\n",
       "      <td>nanog\\r\\nmailing list archives\\r\\nFrom: Routing Table Analysis Role Account via NANOG &amp;lt;nanog () lists nanog org&amp;gt;Date: Sat, 12 Apr 2025 04:02:19 +1000 (AEST)\\r\\nThis is an automated weekly mailing des… [+18565 chars]</td>\n",
       "    </tr>\n",
       "    <tr>\n",
       "      <th>12</th>\n",
       "      <td>{'id': None, 'name': 'Seclists.org'}</td>\n",
       "      <td>None</td>\n",
       "      <td>[NANOG] Weekly Global IPv4 Routing Table Report</td>\n",
       "      <td>Posted by Routing Table Analysis Role Account via NANOG on Mar 28This is an automated weekly mailing describing the state of the Global\\nIPv4 Routing Table as seen from APNIC's router in Japan.\\n\\nThe posting is sent to APOPS, NANOG, AfNOG, SANOG, PacNOG, SAFNOG…</td>\n",
       "      <td>https://seclists.org/nanog/2025/Mar/214</td>\n",
       "      <td>https://seclists.org/images/nanog-img.png</td>\n",
       "      <td>2025-03-28T18:03:15Z</td>\n",
       "      <td>nanog\\r\\nmailing list archives\\r\\nFrom: Routing Table Analysis Role Account via NANOG &amp;lt;nanog () lists nanog org&amp;gt;Date: Sat, 29 Mar 2025 04:02:16 +1000 (AEST)\\r\\nThis is an automated weekly mailing des… [+18574 chars]</td>\n",
       "    </tr>\n",
       "    <tr>\n",
       "      <th>13</th>\n",
       "      <td>{'id': None, 'name': 'Seclists.org'}</td>\n",
       "      <td>None</td>\n",
       "      <td>[NANOG] Weekly Global IPv4 Routing Table Report</td>\n",
       "      <td>Posted by Routing Table Analysis Role Account via NANOG on Mar 21This is an automated weekly mailing describing the state of the Global\\nIPv4 Routing Table as seen from APNIC's router in Japan.\\n\\nThe posting is sent to APOPS, NANOG, AfNOG, SANOG, PacNOG, SAFNOG…</td>\n",
       "      <td>https://seclists.org/nanog/2025/Mar/185</td>\n",
       "      <td>https://seclists.org/images/nanog-img.png</td>\n",
       "      <td>2025-03-21T18:03:22Z</td>\n",
       "      <td>nanog\\r\\nmailing list archives\\r\\nFrom: Routing Table Analysis Role Account via NANOG &amp;lt;nanog () lists nanog org&amp;gt;Date: Sat, 22 Mar 2025 04:02:23 +1000 (AEST)\\r\\nThis is an automated weekly mailing des… [+18571 chars]</td>\n",
       "    </tr>\n",
       "    <tr>\n",
       "      <th>14</th>\n",
       "      <td>{'id': None, 'name': 'Independent Australia'}</td>\n",
       "      <td>Paul Budde</td>\n",
       "      <td>Satellite and 6G technology set to revolutionise emergency services</td>\n",
       "      <td>The Federal Government is considering legislation to mandate access to the 000 emergency service Australia-wide, using technology like satellite-based D2D.</td>\n",
       "      <td>https://independentaustralia.net/business/business-display/satellite-and-6g-technology-set-to-revolutionise-emergency-services,19630</td>\n",
       "      <td>https://independentaustralia.net/_lib/slir/w900-c4x3/i/article/img/article-19630-hero.jpg</td>\n",
       "      <td>2025-04-15T22:21:27Z</td>\n",
       "      <td>The Labor Government is considering legislation to expand the 000 emergency service Australia-wide, using technology like direct-to-device (D2D) satellite communications, writes Paul Budde.\\r\\nIN A PRE… [+6352 chars]</td>\n",
       "    </tr>\n",
       "  </tbody>\n",
       "</table>\n",
       "</div>"
      ],
      "text/plain": [
       "                                           source  \\\n",
       "0              {'id': None, 'name': 'Kentik.com'}   \n",
       "1              {'id': None, 'name': 'Biztoc.com'}   \n",
       "2          {'id': None, 'name': 'ETF Daily News'}   \n",
       "3                  {'id': None, 'name': 'Forbes'}   \n",
       "4           {'id': None, 'name': 'GlobeNewswire'}   \n",
       "5   {'id': None, 'name': 'Motley Fool Australia'}   \n",
       "6   {'id': None, 'name': 'Motley Fool Australia'}   \n",
       "7   {'id': None, 'name': 'Motley Fool Australia'}   \n",
       "8   {'id': None, 'name': 'Motley Fool Australia'}   \n",
       "9               {'id': None, 'name': 'TelecomTV'}   \n",
       "10           {'id': None, 'name': 'Seclists.org'}   \n",
       "11           {'id': None, 'name': 'Seclists.org'}   \n",
       "12           {'id': None, 'name': 'Seclists.org'}   \n",
       "13           {'id': None, 'name': 'Seclists.org'}   \n",
       "14  {'id': None, 'name': 'Independent Australia'}   \n",
       "\n",
       "                                                                                                author  \\\n",
       "0                                                                                                 None   \n",
       "1                                                                                              wsj.com   \n",
       "2                                                                                      MarketBeat News   \n",
       "3   Roy Canivel, Forbes Staff, \\n Roy Canivel, Forbes Staff\\n https://www.forbes.com/sites/roycanivel/   \n",
       "4                                                                                 Research and Markets   \n",
       "5                                                                                     Tristan Harrison   \n",
       "6                                                                                      Sebastian Bowen   \n",
       "7                                                                                      Sebastian Bowen   \n",
       "8                                                                                     Tristan Harrison   \n",
       "9                                                                                           Ian Scales   \n",
       "10                                                                                                None   \n",
       "11                                                                                                None   \n",
       "12                                                                                                None   \n",
       "13                                                                                                None   \n",
       "14                                                                                          Paul Budde   \n",
       "\n",
       "                                                                                                                        title  \\\n",
       "0                                                                                                        DDoS Mitigation Leak   \n",
       "1                                                                                  Tech, Media & Telecom Roundup: Market Talk   \n",
       "2                                                   Inaki Berroeta Buys 335,102 Shares of TPG Telecom Limited (ASX:TPG) Stock   \n",
       "3                                                                In Memoriam: The 31 Billionaires Who Died Over The Past Year   \n",
       "4   Singapore Telecoms Industry Report 2025, with Detailed Operator Profiles and Forecasts for Singtel, Starhub, M1 and Simba   \n",
       "5                                                                       2 ASX growth shares I'd buy to try to beat the market   \n",
       "6                                                                               Should I buy Brickworks or Soul Patts shares?   \n",
       "7                                                                       If I could only own 1 ASX stock, it would be this one   \n",
       "8                                                                            2 ASX shares I think are fantastic for beginners   \n",
       "9                                                                                  Australia’s TPG yearns for the simple life   \n",
       "10                                                                            [NANOG] Weekly Global IPv4 Routing Table Report   \n",
       "11                                                                            [NANOG] Weekly Global IPv4 Routing Table Report   \n",
       "12                                                                            [NANOG] Weekly Global IPv4 Routing Table Report   \n",
       "13                                                                            [NANOG] Weekly Global IPv4 Routing Table Report   \n",
       "14                                                        Satellite and 6G technology set to revolutionise emergency services   \n",
       "\n",
       "                                                                                                                                                                                                                                                                description  \\\n",
       "0      In this edition of Beyond Their Intended Scope, we take a look at last week’s BGP leak by a DDoS mitigation company which impacted networks around the world. We look at the impacts in both BGP and traffic data, and discuss how RFC 9234’s “Only to Customer” BG…   \n",
       "1                                                                                                                                                            Find insight on Asean, TPG Telecom and more in the latest Market Talks covering Technology, Media and Telecom.   \n",
       "2      TPG Telecom Limited (ASX:TPG – Get Free Report) insider Inaki Berroeta bought 335,102 shares of the firm’s stock in a transaction on Monday, March 31st. The shares were bought at an average price of A$4.80 ($2.96) per share, for a total transaction of A$1,608…   \n",
       "3                                                                                                                                        From cable television magnates to fashion moguls to casino bosses, these billionaires have passed away since the 2024 Forbes list.   \n",
       "4      The report offers a deep dive into one of the world’s most advanced telecom markets. With mobile subscriptions, fixed broadband, and 5G investments on the rise, Singapore is positioning itself as a global leader in connectivity and innovation. The report incl…   \n",
       "5                                                                                                           Growth is usually a great way to achieve returns. \\nThe post 2 ASX growth shares I'd buy to try to beat the market appeared first on The Motley Fool Australia.   \n",
       "6                                                                                                                      Both of these stocks offer a two-for-one deal. \\nThe post Should I buy Brickworks or Soul Patts shares? appeared first on The Motley Fool Australia.   \n",
       "7                                                                                                            This stock offers investors a bit of everything. \\nThe post If I could only own 1 ASX stock, it would be this one appeared first on The Motley Fool Australia.   \n",
       "8                                                                                                           I’m a big fan of both of these investments, here’s why…\\nThe post 2 ASX shares I think are fantastic for beginners appeared first on The Motley Fool Australia.   \n",
       "9                                                                                                          TPG Telecom is one of Australia’s largest telcosIt has a sprawling portfolio as a result of its 2020 merger with Vodafone Hutchison AustraliaNow the agreement …   \n",
       "10  Posted by Routing Table Analysis Role Account via NANOG on Apr 04This is an automated weekly mailing describing the state of the Global\\nIPv4 Routing Table as seen from APNIC's router in Japan.\\n\\nThe posting is sent to APOPS, NANOG, AfNOG, SANOG, PacNOG, SAFNOG…   \n",
       "11  Posted by Routing Table Analysis Role Account via NANOG on Apr 11This is an automated weekly mailing describing the state of the Global\\nIPv4 Routing Table as seen from APNIC's router in Japan.\\n\\nThe posting is sent to APOPS, NANOG, AfNOG, SANOG, PacNOG, SAFNOG…   \n",
       "12  Posted by Routing Table Analysis Role Account via NANOG on Mar 28This is an automated weekly mailing describing the state of the Global\\nIPv4 Routing Table as seen from APNIC's router in Japan.\\n\\nThe posting is sent to APOPS, NANOG, AfNOG, SANOG, PacNOG, SAFNOG…   \n",
       "13  Posted by Routing Table Analysis Role Account via NANOG on Mar 21This is an automated weekly mailing describing the state of the Global\\nIPv4 Routing Table as seen from APNIC's router in Japan.\\n\\nThe posting is sent to APOPS, NANOG, AfNOG, SANOG, PacNOG, SAFNOG…   \n",
       "14                                                                                                              The Federal Government is considering legislation to mandate access to the 000 emergency service Australia-wide, using technology like satellite-based D2D.   \n",
       "\n",
       "                                                                                                                                                                                                   url  \\\n",
       "0                                                                                                                        https://www.kentik.com/blog/beyond-their-intended-scope-ddos-mitigation-leak/   \n",
       "1                                                                                                                                                                https://biztoc.com/x/444843442859d4ce   \n",
       "2                                                                                       https://www.etfdailynews.com/2025/04/10/inaki-berroeta-buys-335102-shares-of-tpg-telecom-limited-asxtpg-stock/   \n",
       "3                                                                                      https://www.forbes.com/sites/roycanivel/2025/04/05/in-memoriam-the-31-billionaires-who-died-over-the-past-year/   \n",
       "4   https://www.globenewswire.com/news-release/2025/04/01/3053384/28124/en/Singapore-Telecoms-Industry-Report-2025-with-Detailed-Operator-Profiles-and-Forecasts-for-Singtel-Starhub-M1-and-Simba.html   \n",
       "5                                                                                                             https://www.fool.com.au/2025/03/24/2-asx-growth-shares-id-buy-to-try-to-beat-the-market/   \n",
       "6                                                                                                                     https://www.fool.com.au/2025/03/30/should-i-buy-brickworks-or-soul-patts-shares/   \n",
       "7                                                                                                             https://www.fool.com.au/2025/04/02/if-i-could-only-own-1-asx-stock-it-would-be-this-one/   \n",
       "8                                                                                                                 https://www.fool.com.au/2025/04/02/2-asx-shares-i-think-are-fantastic-for-beginners/   \n",
       "9                                                                                                 https://www.telecomtv.com/content/access-evolution/australia-s-tpg-yearns-for-the-simple-life-52714/   \n",
       "10                                                                                                                                                              https://seclists.org/nanog/2025/Apr/35   \n",
       "11                                                                                                                                                             https://seclists.org/nanog/2025/Apr/145   \n",
       "12                                                                                                                                                             https://seclists.org/nanog/2025/Mar/214   \n",
       "13                                                                                                                                                             https://seclists.org/nanog/2025/Mar/185   \n",
       "14                                                                https://independentaustralia.net/business/business-display/satellite-and-6g-technology-set-to-revolutionise-emergency-services,19630   \n",
       "\n",
       "                                                                                                                                                                           urlToImage  \\\n",
       "0                                          https://images.ctfassets.net/6yom6slo28h2/42btGaEeULlyrQZ6hNslqc/f59dd066fca746b42f1e160fe6e5c90a/beyond-their-intended-scope-voxility.png   \n",
       "1                                                                                                                                                   https://biztoc.com/cdn/928/og.png   \n",
       "2   https://www.americanbankingnews.com/wp-content/timthumb/timthumb.php?src=https://www.marketbeat.com/logos/tpg-telecom-limited-logo-1200x675.png?v=20211118121122&w=240&h=240&zc=2   \n",
       "3                                                  https://imageio.forbes.com/specials-images/imageserve/67eae94a9c33b7363b67a48c/0x0.jpg?format=jpg&height=900&width=1600&fit=bounds   \n",
       "4                                                                                                 https://ml.globenewswire.com/Resource/Download/908fb457-7f8e-4a08-9081-5565e3dfb3d7   \n",
       "5                                                                                                      https://www.fool.com.au/wp-content/uploads/2024/01/two-colleagues-1200x675.jpg   \n",
       "6                                                                                         https://www.fool.com.au/wp-content/uploads/2022/05/Boy-chooses-which-door-16_9-1200x675.jpg   \n",
       "7                                                                                            https://www.fool.com.au/wp-content/uploads/2023/09/GettyImages-1341398877-1-1200x675.jpg   \n",
       "8                                                                                                      https://www.fool.com.au/wp-content/uploads/2020/08/Motley-Fool-AMP-SD-Logo.png   \n",
       "9                                                                                                         https://assets.telecomtv.com/assets/telecomtv/tpg-telecom-20021.jpeg?w=1200   \n",
       "10                                                                                                                                          https://seclists.org/images/nanog-img.png   \n",
       "11                                                                                                                                          https://seclists.org/images/nanog-img.png   \n",
       "12                                                                                                                                          https://seclists.org/images/nanog-img.png   \n",
       "13                                                                                                                                          https://seclists.org/images/nanog-img.png   \n",
       "14                                                                                          https://independentaustralia.net/_lib/slir/w900-c4x3/i/article/img/article-19630-hero.jpg   \n",
       "\n",
       "             publishedAt  \\\n",
       "0   2025-04-08T17:41:24Z   \n",
       "1   2025-03-24T08:54:27Z   \n",
       "2   2025-04-10T08:12:54Z   \n",
       "3   2025-04-05T11:00:00Z   \n",
       "4   2025-04-01T12:32:00Z   \n",
       "5   2025-03-23T23:19:27Z   \n",
       "6   2025-03-29T18:30:00Z   \n",
       "7   2025-04-02T01:56:00Z   \n",
       "8   2025-04-02T02:48:51Z   \n",
       "9   2025-04-01T12:22:09Z   \n",
       "10  2025-04-04T18:03:19Z   \n",
       "11  2025-04-11T18:03:08Z   \n",
       "12  2025-03-28T18:03:15Z   \n",
       "13  2025-03-21T18:03:22Z   \n",
       "14  2025-04-15T22:21:27Z   \n",
       "\n",
       "                                                                                                                                                                                                                          content  \n",
       "0       SubscribeSummary\\r\\nIn this edition of Beyond Their Intended Scope, we take a look at last weeks BGP leak by a DDoS mitigation company which impacted networks around the world. We look at the impacts i… [+11797 chars]  \n",
       "1                                                          Find insight on Asean, TPG Telecom and more in the latest Market Talks covering Technology, Media and Telecom.\\r\\nThis story appeared on wsj.com, 2025-03-24 08:40:00.  \n",
       "2          TPG Telecom Limited (ASX:TPG – Get Free Report) insider Inaki Berroeta bought 335,102 shares of the firm’s stock in a transaction on Monday, March 31st. The shares were bought at an average price of … [+1485 chars]  \n",
       "3       From cable television magnates to fashion moguls to casino bosses, these billionaires have passed away since the 2024 Forbes list.\\r\\nThe founder of HBO, a Macau casino magnate and one of the greatest … [+18050 chars]  \n",
       "4       Dublin, April 01, 2025 (GLOBE NEWSWIRE) -- The \"Singapore Telecoms Industry Report -2031\" report has been added to ResearchAndMarkets.com's offering.\\r\\nThe Singapore Telecommunications Industry Report… [+10477 chars]  \n",
       "5      The ASX growth share space is a great place to hunt for opportunities that could beat the market. \\r\\nCompounding is a powerful economic force. As the genius Albert Einstein once said:\\r\\nCompound intere… [+2681 chars]  \n",
       "6        Washington H. Soul Pattinson and Co Ltd (ASX: SOL) and Brickworks Ltd (ASX: BKW) are arguably two of the most interesting and impressive shares on the ASX.\\r\\nAt first glance, it might not seem like th… [+3217 chars]  \n",
       "7          Like most ASX investors, I have a diversified portfolio of shares, both Australian and international. This portfolio includes many quality companies, many of which I've written extensively about in t… [+2842 chars]  \n",
       "8        I believe ASX shares are a great way for beginner investors to gain exposure to the stock market.\\r\\nInvesting in shares seems easier to me than residential property. It doesn't come with a massive loa… [+2968 chars]  \n",
       "9          With approval from Australia’s Competition and Consumer Commission (ACCC) for the AUS$5.25bn (US$3.28bn) sale of its fibre network infrastructure and EGW (Enterprise, Government and Wholesale) Fixed … [+3219 chars]  \n",
       "10  nanog\\r\\nmailing list archives\\r\\nFrom: Routing Table Analysis Role Account via NANOG &lt;nanog () lists nanog org&gt;Date: Sat, 5 Apr 2025 04:02:21 +1000 (AEST)\\r\\nThis is an automated weekly mailing desc… [+18691 chars]  \n",
       "11  nanog\\r\\nmailing list archives\\r\\nFrom: Routing Table Analysis Role Account via NANOG &lt;nanog () lists nanog org&gt;Date: Sat, 12 Apr 2025 04:02:19 +1000 (AEST)\\r\\nThis is an automated weekly mailing des… [+18565 chars]  \n",
       "12  nanog\\r\\nmailing list archives\\r\\nFrom: Routing Table Analysis Role Account via NANOG &lt;nanog () lists nanog org&gt;Date: Sat, 29 Mar 2025 04:02:16 +1000 (AEST)\\r\\nThis is an automated weekly mailing des… [+18574 chars]  \n",
       "13  nanog\\r\\nmailing list archives\\r\\nFrom: Routing Table Analysis Role Account via NANOG &lt;nanog () lists nanog org&gt;Date: Sat, 22 Mar 2025 04:02:23 +1000 (AEST)\\r\\nThis is an automated weekly mailing des… [+18571 chars]  \n",
       "14       The Labor Government is considering legislation to expand the 000 emergency service Australia-wide, using technology like direct-to-device (D2D) satellite communications, writes Paul Budde.\\r\\nIN A PRE… [+6352 chars]  "
      ]
     },
     "execution_count": 10,
     "metadata": {},
     "output_type": "execute_result"
    }
   ],
   "source": [
    "df = pd.DataFrame(articles)\n",
    "df"
   ]
  },
  {
   "cell_type": "code",
   "execution_count": 11,
   "id": "cbf8a97e",
   "metadata": {},
   "outputs": [
    {
     "data": {
      "text/plain": [
       "0                                                                                                                          https://www.kentik.com/blog/beyond-their-intended-scope-ddos-mitigation-leak/\n",
       "1                                                                                                                                                                  https://biztoc.com/x/444843442859d4ce\n",
       "2                                                                                         https://www.etfdailynews.com/2025/04/10/inaki-berroeta-buys-335102-shares-of-tpg-telecom-limited-asxtpg-stock/\n",
       "3                                                                                        https://www.forbes.com/sites/roycanivel/2025/04/05/in-memoriam-the-31-billionaires-who-died-over-the-past-year/\n",
       "4     https://www.globenewswire.com/news-release/2025/04/01/3053384/28124/en/Singapore-Telecoms-Industry-Report-2025-with-Detailed-Operator-Profiles-and-Forecasts-for-Singtel-Starhub-M1-and-Simba.html\n",
       "5                                                                                                               https://www.fool.com.au/2025/03/24/2-asx-growth-shares-id-buy-to-try-to-beat-the-market/\n",
       "6                                                                                                                       https://www.fool.com.au/2025/03/30/should-i-buy-brickworks-or-soul-patts-shares/\n",
       "7                                                                                                               https://www.fool.com.au/2025/04/02/if-i-could-only-own-1-asx-stock-it-would-be-this-one/\n",
       "8                                                                                                                   https://www.fool.com.au/2025/04/02/2-asx-shares-i-think-are-fantastic-for-beginners/\n",
       "9                                                                                                   https://www.telecomtv.com/content/access-evolution/australia-s-tpg-yearns-for-the-simple-life-52714/\n",
       "10                                                                                                                                                                https://seclists.org/nanog/2025/Apr/35\n",
       "11                                                                                                                                                               https://seclists.org/nanog/2025/Apr/145\n",
       "12                                                                                                                                                               https://seclists.org/nanog/2025/Mar/214\n",
       "13                                                                                                                                                               https://seclists.org/nanog/2025/Mar/185\n",
       "14                                                                  https://independentaustralia.net/business/business-display/satellite-and-6g-technology-set-to-revolutionise-emergency-services,19630\n",
       "Name: url, dtype: object"
      ]
     },
     "execution_count": 11,
     "metadata": {},
     "output_type": "execute_result"
    }
   ],
   "source": [
    "website_links = df['url']\n",
    "website_links"
   ]
  },
  {
   "cell_type": "code",
   "execution_count": 12,
   "id": "0bcd2a09",
   "metadata": {},
   "outputs": [
    {
     "name": "stdout",
     "output_type": "stream",
     "text": [
      "Requirement already satisfied: requests in /home/codespace/.local/lib/python3.12/site-packages (2.32.3)\n",
      "Requirement already satisfied: charset-normalizer<4,>=2 in /home/codespace/.local/lib/python3.12/site-packages (from requests) (3.4.1)\n",
      "Requirement already satisfied: idna<4,>=2.5 in /home/codespace/.local/lib/python3.12/site-packages (from requests) (3.10)\n",
      "Requirement already satisfied: urllib3<3,>=1.21.1 in /home/codespace/.local/lib/python3.12/site-packages (from requests) (2.3.0)\n",
      "Requirement already satisfied: certifi>=2017.4.17 in /home/codespace/.local/lib/python3.12/site-packages (from requests) (2025.1.31)\n",
      "Requirement already satisfied: bs4 in /usr/local/python/3.12.1/lib/python3.12/site-packages (0.0.2)\n",
      "Requirement already satisfied: beautifulsoup4 in /home/codespace/.local/lib/python3.12/site-packages (from bs4) (4.13.3)\n",
      "Requirement already satisfied: soupsieve>1.2 in /home/codespace/.local/lib/python3.12/site-packages (from beautifulsoup4->bs4) (2.6)\n",
      "Requirement already satisfied: typing-extensions>=4.0.0 in /home/codespace/.local/lib/python3.12/site-packages (from beautifulsoup4->bs4) (4.12.2)\n",
      "Requirement already satisfied: transformers in /usr/local/python/3.12.1/lib/python3.12/site-packages (4.51.3)\n",
      "Requirement already satisfied: filelock in /home/codespace/.local/lib/python3.12/site-packages (from transformers) (3.13.1)\n",
      "Requirement already satisfied: huggingface-hub<1.0,>=0.30.0 in /usr/local/python/3.12.1/lib/python3.12/site-packages (from transformers) (0.30.2)\n",
      "Requirement already satisfied: numpy>=1.17 in /home/codespace/.local/lib/python3.12/site-packages (from transformers) (2.2.4)\n",
      "Requirement already satisfied: packaging>=20.0 in /home/codespace/.local/lib/python3.12/site-packages (from transformers) (24.2)\n",
      "Requirement already satisfied: pyyaml>=5.1 in /home/codespace/.local/lib/python3.12/site-packages (from transformers) (6.0.2)\n",
      "Requirement already satisfied: regex!=2019.12.17 in /usr/local/python/3.12.1/lib/python3.12/site-packages (from transformers) (2024.11.6)\n",
      "Requirement already satisfied: requests in /home/codespace/.local/lib/python3.12/site-packages (from transformers) (2.32.3)\n",
      "Requirement already satisfied: tokenizers<0.22,>=0.21 in /usr/local/python/3.12.1/lib/python3.12/site-packages (from transformers) (0.21.1)\n",
      "Requirement already satisfied: safetensors>=0.4.3 in /usr/local/python/3.12.1/lib/python3.12/site-packages (from transformers) (0.5.3)\n",
      "Requirement already satisfied: tqdm>=4.27 in /usr/local/python/3.12.1/lib/python3.12/site-packages (from transformers) (4.67.1)\n",
      "Requirement already satisfied: fsspec>=2023.5.0 in /home/codespace/.local/lib/python3.12/site-packages (from huggingface-hub<1.0,>=0.30.0->transformers) (2024.6.1)\n",
      "Requirement already satisfied: typing-extensions>=3.7.4.3 in /home/codespace/.local/lib/python3.12/site-packages (from huggingface-hub<1.0,>=0.30.0->transformers) (4.12.2)\n",
      "Requirement already satisfied: charset-normalizer<4,>=2 in /home/codespace/.local/lib/python3.12/site-packages (from requests->transformers) (3.4.1)\n",
      "Requirement already satisfied: idna<4,>=2.5 in /home/codespace/.local/lib/python3.12/site-packages (from requests->transformers) (3.10)\n",
      "Requirement already satisfied: urllib3<3,>=1.21.1 in /home/codespace/.local/lib/python3.12/site-packages (from requests->transformers) (2.3.0)\n",
      "Requirement already satisfied: certifi>=2017.4.17 in /home/codespace/.local/lib/python3.12/site-packages (from requests->transformers) (2025.1.31)\n"
     ]
    },
    {
     "name": "stderr",
     "output_type": "stream",
     "text": [
      "/usr/local/python/3.12.1/lib/python3.12/site-packages/tqdm/auto.py:21: TqdmWarning: IProgress not found. Please update jupyter and ipywidgets. See https://ipywidgets.readthedocs.io/en/stable/user_install.html\n",
      "  from .autonotebook import tqdm as notebook_tqdm\n"
     ]
    }
   ],
   "source": [
    "!pip install requests\n",
    "!pip install bs4\n",
    "!pip install transformers\n",
    "import requests\n",
    "from bs4 import BeautifulSoup\n",
    "from transformers import pipeline"
   ]
  },
  {
   "cell_type": "code",
   "execution_count": 13,
   "id": "76d7bbbc",
   "metadata": {},
   "outputs": [
    {
     "name": "stderr",
     "output_type": "stream",
     "text": [
      "Device set to use cpu\n"
     ]
    }
   ],
   "source": [
    "summarizer = pipeline(\"summarization\", model=\"facebook/bart-large-cnn\")"
   ]
  },
  {
   "cell_type": "code",
   "execution_count": 14,
   "id": "fecea866",
   "metadata": {},
   "outputs": [],
   "source": [
    "def summarise_url(url):\n",
    "    try:\n",
    "        response = requests.get(url, timeout=5)\n",
    "        response.raise_for_status()\n",
    "        soup = BeautifulSoup(response.text, 'html.parser')\n",
    "\n",
    "        title = soup.title.string if soup.title else 'No Title'\n",
    "        para = soup.find_all('p')\n",
    "        text = ''.join(p.get_text() for p in para)\n",
    "\n",
    "        text = text[:3000]\n",
    "\n",
    "        summary = summarizer(text, max_length=130, min_length=30, do_sample=False)\n",
    "        return summary[0]['summary_text']\n",
    "\n",
    "    except Exception as e:\n",
    "        return f\"Error summarisng: {e}\""
   ]
  },
  {
   "cell_type": "code",
   "execution_count": 15,
   "id": "403d4f55",
   "metadata": {},
   "outputs": [
    {
     "name": "stderr",
     "output_type": "stream",
     "text": [
      "Your max_length is set to 130, but your input_length is only 25. Since this is a summarization task, where outputs shorter than the input are typically wanted, you might consider decreasing max_length manually, e.g. summarizer('...', max_length=12)\n",
      "Your max_length is set to 130, but your input_length is only 3. Since this is a summarization task, where outputs shorter than the input are typically wanted, you might consider decreasing max_length manually, e.g. summarizer('...', max_length=1)\n",
      "Your max_length is set to 130, but your input_length is only 3. Since this is a summarization task, where outputs shorter than the input are typically wanted, you might consider decreasing max_length manually, e.g. summarizer('...', max_length=1)\n",
      "Your max_length is set to 130, but your input_length is only 3. Since this is a summarization task, where outputs shorter than the input are typically wanted, you might consider decreasing max_length manually, e.g. summarizer('...', max_length=1)\n",
      "Your max_length is set to 130, but your input_length is only 3. Since this is a summarization task, where outputs shorter than the input are typically wanted, you might consider decreasing max_length manually, e.g. summarizer('...', max_length=1)\n"
     ]
    }
   ],
   "source": [
    "website_links['summary'] = df['url'].apply(summarise_url)"
   ]
  },
  {
   "cell_type": "code",
   "execution_count": 16,
   "id": "1e5ddf6a",
   "metadata": {},
   "outputs": [
    {
     "name": "stdout",
     "output_type": "stream",
     "text": [
      "0                                                                                                                                                                                                                Beyond Their Intended Scope looks at last week's BGP leak by a DDoS mitigation company. The leak briefly disrupted and misdirected internet traffic from around the world through Bucharest, Romania.\n",
      "1                                                                                      Armed conflicts and attacks                Business and economy                International relations                Law and crime                Sports                . Law and crime                           Armed conflicts and attacks                . Business, economy, and international relations                .\n",
      "2     TPG Telecom Limited (ASX:TPG – Get Free Report) insider Inaki Berroeta bought 335,102 shares of the firm’s stock in a transaction on Monday, March 31st. The shares were bought at an average price of A$4.80 ($2.96) per share. The company has a market cap of $8.01 billion, a P/E ratio of 266.56 and a beta of 0.01. TPG Telecom recently declared a Final dividend, which was paid on Thursday, April 3rd.\n",
      "3                                                                                                                                                                  31 members of Forbes’ 2024 World’s Billionaires have passed away since last year. As a group, they were worth $207 billion in aggregate on last year's list. They amassed their immense wealth all over the world, but mainly in the United States.\n",
      "4                                                                                                                     Singapore has one of the most mature and competitive telecommunications markets in the world. Mobile subscriptions and fixed broadband subscribers are forecast to grow during the period 2023-30. Internet user penetration will grow at an annual average rate of 1.7% in the forecast period.\n",
      "5                                                                                                                                                                                                                                                                      Error summarisng: 403 Client Error: Forbidden for url: https://www.fool.com.au/2025/03/24/2-asx-growth-shares-id-buy-to-try-to-beat-the-market/\n",
      "6                                                                                                                                                                                                                                                                              Error summarisng: 403 Client Error: Forbidden for url: https://www.fool.com.au/2025/03/30/should-i-buy-brickworks-or-soul-patts-shares/\n",
      "7                                                                                                                                                                                                                                                                      Error summarisng: 403 Client Error: Forbidden for url: https://www.fool.com.au/2025/04/02/if-i-could-only-own-1-asx-stock-it-would-be-this-one/\n",
      "8                                                                                                                                                                                                                                                                          Error summarisng: 403 Client Error: Forbidden for url: https://www.fool.com.au/2025/04/02/2-asx-shares-i-think-are-fantastic-for-beginners/\n",
      "9                                                                                                                                                                         TPG Telecom is one of Australia’s largest telcos, as a result of the 2020 merger of TPG and Vodafone Hutchison Australia. In 2024, it reported service revenues of AUS$4.7bn, up 1.5%. It ended the year with 5.51 million mobile customers.\n",
      "10                                                                                                                                                                                                            CNN.com will feature iReporter photos in a weekly Travel Snapshots gallery. Please submit your best shots of New York for next week. Visit CNN.com/Travel next Wednesday for a new gallery of snapshots.\n",
      "11                                                                                                                                                                                                            CNN.com will feature iReporter photos in a weekly Travel Snapshots gallery. Please submit your best shots of New York for next week. Visit CNN.com/Travel next Wednesday for a new gallery of snapshots.\n",
      "12                                                                                                                                                                                                            CNN.com will feature iReporter photos in a weekly Travel Snapshots gallery. Please submit your best shots of New York for next week. Visit CNN.com/Travel next Wednesday for a new gallery of snapshots.\n",
      "13                                                                                                                                                                                                            CNN.com will feature iReporter photos in a weekly Travel Snapshots gallery. Please submit your best shots of New York for next week. Visit CNN.com/Travel next Wednesday for a new gallery of snapshots.\n",
      "14                                       The Labor Government is considering legislation to expand the 000 emergency service Australia-wide, using technology like direct-to-device (D2D) satellite communications. Only around 30% of our landmass is currently covered by traditional mobile networks. The opportunity to dramatically expand coverage using satellite technology is nothing short of revolutionary.\n",
      "Name: url, dtype: object\n"
     ]
    }
   ],
   "source": [
    "print(website_links['summary'])"
   ]
  },
  {
   "cell_type": "code",
   "execution_count": 17,
   "id": "42ffe55b",
   "metadata": {},
   "outputs": [],
   "source": [
    "\n",
    "TPG_summary = website_links['summary']"
   ]
  },
  {
   "cell_type": "code",
   "execution_count": 18,
   "id": "7c720360",
   "metadata": {},
   "outputs": [
    {
     "data": {
      "text/plain": [
       "0                                                                                                                                                                                                                Beyond Their Intended Scope looks at last week's BGP leak by a DDoS mitigation company. The leak briefly disrupted and misdirected internet traffic from around the world through Bucharest, Romania.\n",
       "1                                                                                      Armed conflicts and attacks                Business and economy                International relations                Law and crime                Sports                . Law and crime                           Armed conflicts and attacks                . Business, economy, and international relations                .\n",
       "2     TPG Telecom Limited (ASX:TPG – Get Free Report) insider Inaki Berroeta bought 335,102 shares of the firm’s stock in a transaction on Monday, March 31st. The shares were bought at an average price of A$4.80 ($2.96) per share. The company has a market cap of $8.01 billion, a P/E ratio of 266.56 and a beta of 0.01. TPG Telecom recently declared a Final dividend, which was paid on Thursday, April 3rd.\n",
       "3                                                                                                                                                                  31 members of Forbes’ 2024 World’s Billionaires have passed away since last year. As a group, they were worth $207 billion in aggregate on last year's list. They amassed their immense wealth all over the world, but mainly in the United States.\n",
       "4                                                                                                                     Singapore has one of the most mature and competitive telecommunications markets in the world. Mobile subscriptions and fixed broadband subscribers are forecast to grow during the period 2023-30. Internet user penetration will grow at an annual average rate of 1.7% in the forecast period.\n",
       "5                                                                                                                                                                                                                                                                      Error summarisng: 403 Client Error: Forbidden for url: https://www.fool.com.au/2025/03/24/2-asx-growth-shares-id-buy-to-try-to-beat-the-market/\n",
       "6                                                                                                                                                                                                                                                                              Error summarisng: 403 Client Error: Forbidden for url: https://www.fool.com.au/2025/03/30/should-i-buy-brickworks-or-soul-patts-shares/\n",
       "7                                                                                                                                                                                                                                                                      Error summarisng: 403 Client Error: Forbidden for url: https://www.fool.com.au/2025/04/02/if-i-could-only-own-1-asx-stock-it-would-be-this-one/\n",
       "8                                                                                                                                                                                                                                                                          Error summarisng: 403 Client Error: Forbidden for url: https://www.fool.com.au/2025/04/02/2-asx-shares-i-think-are-fantastic-for-beginners/\n",
       "9                                                                                                                                                                         TPG Telecom is one of Australia’s largest telcos, as a result of the 2020 merger of TPG and Vodafone Hutchison Australia. In 2024, it reported service revenues of AUS$4.7bn, up 1.5%. It ended the year with 5.51 million mobile customers.\n",
       "10                                                                                                                                                                                                            CNN.com will feature iReporter photos in a weekly Travel Snapshots gallery. Please submit your best shots of New York for next week. Visit CNN.com/Travel next Wednesday for a new gallery of snapshots.\n",
       "11                                                                                                                                                                                                            CNN.com will feature iReporter photos in a weekly Travel Snapshots gallery. Please submit your best shots of New York for next week. Visit CNN.com/Travel next Wednesday for a new gallery of snapshots.\n",
       "12                                                                                                                                                                                                            CNN.com will feature iReporter photos in a weekly Travel Snapshots gallery. Please submit your best shots of New York for next week. Visit CNN.com/Travel next Wednesday for a new gallery of snapshots.\n",
       "13                                                                                                                                                                                                            CNN.com will feature iReporter photos in a weekly Travel Snapshots gallery. Please submit your best shots of New York for next week. Visit CNN.com/Travel next Wednesday for a new gallery of snapshots.\n",
       "14                                       The Labor Government is considering legislation to expand the 000 emergency service Australia-wide, using technology like direct-to-device (D2D) satellite communications. Only around 30% of our landmass is currently covered by traditional mobile networks. The opportunity to dramatically expand coverage using satellite technology is nothing short of revolutionary.\n",
       "Name: url, dtype: object"
      ]
     },
     "execution_count": 18,
     "metadata": {},
     "output_type": "execute_result"
    }
   ],
   "source": [
    "TPG_summary"
   ]
  },
  {
   "cell_type": "code",
   "execution_count": 19,
   "id": "d0602854",
   "metadata": {},
   "outputs": [],
   "source": [
    "keywords = ['Error', 'CNN']"
   ]
  },
  {
   "cell_type": "code",
   "execution_count": 20,
   "id": "d91a29b8",
   "metadata": {},
   "outputs": [],
   "source": [
    "refined_summary = TPG_summary[~TPG_summary.astype(str).apply(\n",
    "    lambda x: any(kw in x for kw in keywords)\n",
    ")]\n",
    "\n"
   ]
  },
  {
   "cell_type": "code",
   "execution_count": 21,
   "id": "9451b241",
   "metadata": {},
   "outputs": [
    {
     "data": {
      "text/plain": [
       "0                                                                                                                                                                                                                Beyond Their Intended Scope looks at last week's BGP leak by a DDoS mitigation company. The leak briefly disrupted and misdirected internet traffic from around the world through Bucharest, Romania.\n",
       "1                                                                                      Armed conflicts and attacks                Business and economy                International relations                Law and crime                Sports                . Law and crime                           Armed conflicts and attacks                . Business, economy, and international relations                .\n",
       "2     TPG Telecom Limited (ASX:TPG – Get Free Report) insider Inaki Berroeta bought 335,102 shares of the firm’s stock in a transaction on Monday, March 31st. The shares were bought at an average price of A$4.80 ($2.96) per share. The company has a market cap of $8.01 billion, a P/E ratio of 266.56 and a beta of 0.01. TPG Telecom recently declared a Final dividend, which was paid on Thursday, April 3rd.\n",
       "3                                                                                                                                                                  31 members of Forbes’ 2024 World’s Billionaires have passed away since last year. As a group, they were worth $207 billion in aggregate on last year's list. They amassed their immense wealth all over the world, but mainly in the United States.\n",
       "4                                                                                                                     Singapore has one of the most mature and competitive telecommunications markets in the world. Mobile subscriptions and fixed broadband subscribers are forecast to grow during the period 2023-30. Internet user penetration will grow at an annual average rate of 1.7% in the forecast period.\n",
       "9                                                                                                                                                                         TPG Telecom is one of Australia’s largest telcos, as a result of the 2020 merger of TPG and Vodafone Hutchison Australia. In 2024, it reported service revenues of AUS$4.7bn, up 1.5%. It ended the year with 5.51 million mobile customers.\n",
       "14                                       The Labor Government is considering legislation to expand the 000 emergency service Australia-wide, using technology like direct-to-device (D2D) satellite communications. Only around 30% of our landmass is currently covered by traditional mobile networks. The opportunity to dramatically expand coverage using satellite technology is nothing short of revolutionary.\n",
       "Name: url, dtype: object"
      ]
     },
     "execution_count": 21,
     "metadata": {},
     "output_type": "execute_result"
    }
   ],
   "source": [
    "refined_summary"
   ]
  },
  {
   "cell_type": "code",
   "execution_count": 22,
   "id": "140b297d",
   "metadata": {},
   "outputs": [],
   "source": [
    "refined_summary = refined_summary.loc[[2,4,9,14]]"
   ]
  },
  {
   "cell_type": "code",
   "execution_count": 23,
   "id": "d58aca8b",
   "metadata": {},
   "outputs": [],
   "source": [
    "refined_summary = \" \".join(TPG_summary.loc[[2,4,9,14]])\n"
   ]
  },
  {
   "cell_type": "code",
   "execution_count": 24,
   "id": "8431f94a",
   "metadata": {},
   "outputs": [
    {
     "data": {
      "text/plain": [
       "'TPG Telecom Limited (ASX:TPG – Get Free Report) insider Inaki Berroeta bought 335,102 shares of the firm’s stock in a transaction on Monday, March 31st. The shares were bought at an average price of A$4.80 ($2.96) per share. The company has a market cap of $8.01 billion, a P/E ratio of 266.56 and a beta of 0.01. TPG Telecom recently declared a Final dividend, which was paid on Thursday, April 3rd. Singapore has one of the most mature and competitive telecommunications markets in the world. Mobile subscriptions and fixed broadband subscribers are forecast to grow during the period 2023-30. Internet user penetration will grow at an annual average rate of 1.7% in the forecast period. TPG Telecom is one of Australia’s largest telcos, as a result of the 2020 merger of TPG and Vodafone Hutchison Australia. In 2024, it reported service revenues of AUS$4.7bn, up 1.5%. It ended the year with 5.51 million mobile customers. The Labor Government is considering legislation to expand the 000 emergency service Australia-wide, using technology like direct-to-device (D2D) satellite communications. Only around 30% of our landmass is currently covered by traditional mobile networks. The opportunity to dramatically expand coverage using satellite technology is nothing short of revolutionary.'"
      ]
     },
     "execution_count": 24,
     "metadata": {},
     "output_type": "execute_result"
    }
   ],
   "source": [
    "refined_summary"
   ]
  },
  {
   "cell_type": "code",
   "execution_count": 25,
   "id": "ee6e758c",
   "metadata": {},
   "outputs": [],
   "source": [
    "TPG_summary_text = refined_summary.encode('latin-1', 'ignore').decode('latin-1')"
   ]
  },
  {
   "cell_type": "code",
   "execution_count": 26,
   "id": "a0693bf5",
   "metadata": {},
   "outputs": [
    {
     "data": {
      "text/plain": [
       "'TPG Telecom Limited (ASX:TPG  Get Free Report) insider Inaki Berroeta bought 335,102 shares of the firms stock in a transaction on Monday, March 31st. The shares were bought at an average price of A$4.80 ($2.96) per share. The company has a market cap of $8.01 billion, a P/E ratio of 266.56 and a beta of 0.01. TPG Telecom recently declared a Final dividend, which was paid on Thursday, April 3rd. Singapore has one of the most mature and competitive telecommunications markets in the world. Mobile subscriptions and fixed broadband subscribers are forecast to grow during the period 2023-30. Internet user penetration will grow at an annual average rate of 1.7% in the forecast period. TPG Telecom is one of Australias largest telcos, as a result of the 2020 merger of TPG and Vodafone Hutchison Australia. In 2024, it reported service revenues of AUS$4.7bn, up 1.5%. It ended the year with 5.51 million mobile customers. The Labor Government is considering legislation to expand the 000 emergency service Australia-wide, using technology like direct-to-device (D2D) satellite communications. Only around 30% of our landmass is currently covered by traditional mobile networks. The opportunity to dramatically expand coverage using satellite technology is nothing short of revolutionary.'"
      ]
     },
     "execution_count": 26,
     "metadata": {},
     "output_type": "execute_result"
    }
   ],
   "source": [
    "TPG_summary_text"
   ]
  },
  {
   "cell_type": "code",
   "execution_count": 27,
   "id": "ab70ae3b",
   "metadata": {},
   "outputs": [],
   "source": [
    "file_path = \"/workspaces/FINM3422-Group-11/Main PDF + Images/TPG_summary_text.txt\"\n",
    "with open(file_path, 'w') as file:\n",
    "    file.write(TPG_summary_text)"
   ]
  }
 ],
 "metadata": {
  "kernelspec": {
   "display_name": "Python 3",
   "language": "python",
   "name": "python3"
  },
  "language_info": {
   "codemirror_mode": {
    "name": "ipython",
    "version": 3
   },
   "file_extension": ".py",
   "mimetype": "text/x-python",
   "name": "python",
   "nbconvert_exporter": "python",
   "pygments_lexer": "ipython3",
   "version": "3.12.1"
  }
 },
 "nbformat": 4,
 "nbformat_minor": 5
}
