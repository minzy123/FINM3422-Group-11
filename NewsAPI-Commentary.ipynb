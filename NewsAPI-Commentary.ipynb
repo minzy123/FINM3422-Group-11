{
 "cells": [
  {
   "cell_type": "code",
   "execution_count": 1,
   "id": "137a2f46",
   "metadata": {},
   "outputs": [
    {
     "name": "stdout",
     "output_type": "stream",
     "text": [
      "Requirement already satisfied: newsapi-python in /usr/local/python/3.12.1/lib/python3.12/site-packages (0.2.7)\n",
      "Requirement already satisfied: requests<3.0.0 in /home/codespace/.local/lib/python3.12/site-packages (from newsapi-python) (2.32.3)\n",
      "Requirement already satisfied: charset-normalizer<4,>=2 in /home/codespace/.local/lib/python3.12/site-packages (from requests<3.0.0->newsapi-python) (3.4.1)\n",
      "Requirement already satisfied: idna<4,>=2.5 in /home/codespace/.local/lib/python3.12/site-packages (from requests<3.0.0->newsapi-python) (3.10)\n",
      "Requirement already satisfied: urllib3<3,>=1.21.1 in /home/codespace/.local/lib/python3.12/site-packages (from requests<3.0.0->newsapi-python) (2.3.0)\n",
      "Requirement already satisfied: certifi>=2017.4.17 in /home/codespace/.local/lib/python3.12/site-packages (from requests<3.0.0->newsapi-python) (2025.1.31)\n",
      "Requirement already satisfied: key in /usr/local/python/3.12.1/lib/python3.12/site-packages (0.4)\n"
     ]
    }
   ],
   "source": [
    "!pip install newsapi-python\n",
    "!pip install key\n"
   ]
  },
  {
   "cell_type": "code",
   "execution_count": 2,
   "id": "7b17a85e",
   "metadata": {},
   "outputs": [],
   "source": [
    "from newsapi import NewsApiClient\n",
    "from key import my_api_key\n",
    "import datetime as dt\n",
    "import pandas as pd"
   ]
  },
  {
   "cell_type": "code",
   "execution_count": 3,
   "id": "a5bdafdc",
   "metadata": {},
   "outputs": [],
   "source": [
    "newsapi = NewsApiClient(api_key = my_api_key)"
   ]
  },
  {
   "cell_type": "code",
   "execution_count": 4,
   "id": "54c23d33",
   "metadata": {},
   "outputs": [],
   "source": [
    "data = newsapi.get_everything(q='TPG Telecom stock', language = 'en', from_param='2025-03-20')"
   ]
  },
  {
   "cell_type": "code",
   "execution_count": 5,
   "id": "fc963645",
   "metadata": {},
   "outputs": [
    {
     "data": {
      "text/plain": [
       "dict"
      ]
     },
     "execution_count": 5,
     "metadata": {},
     "output_type": "execute_result"
    }
   ],
   "source": [
    "type(data)"
   ]
  },
  {
   "cell_type": "code",
   "execution_count": 6,
   "id": "11dcf620",
   "metadata": {},
   "outputs": [
    {
     "data": {
      "text/plain": [
       "dict_keys(['status', 'totalResults', 'articles'])"
      ]
     },
     "execution_count": 6,
     "metadata": {},
     "output_type": "execute_result"
    }
   ],
   "source": [
    "data.keys()"
   ]
  },
  {
   "cell_type": "code",
   "execution_count": 7,
   "id": "e0a65d28",
   "metadata": {},
   "outputs": [
    {
     "data": {
      "text/plain": [
       "'ok'"
      ]
     },
     "execution_count": 7,
     "metadata": {},
     "output_type": "execute_result"
    }
   ],
   "source": [
    "data['status']"
   ]
  },
  {
   "cell_type": "code",
   "execution_count": 8,
   "id": "55f58300",
   "metadata": {},
   "outputs": [
    {
     "data": {
      "text/plain": [
       "7"
      ]
     },
     "execution_count": 8,
     "metadata": {},
     "output_type": "execute_result"
    }
   ],
   "source": [
    "data['totalResults']"
   ]
  },
  {
   "cell_type": "code",
   "execution_count": 9,
   "id": "5e06012c",
   "metadata": {},
   "outputs": [
    {
     "data": {
      "text/plain": [
       "list"
      ]
     },
     "execution_count": 9,
     "metadata": {},
     "output_type": "execute_result"
    }
   ],
   "source": [
    "type(data['articles'])"
   ]
  },
  {
   "cell_type": "code",
   "execution_count": 10,
   "id": "04a62f94",
   "metadata": {},
   "outputs": [
    {
     "data": {
      "text/plain": [
       "{'source': {'id': None, 'name': 'ETF Daily News'},\n",
       " 'author': 'MarketBeat News',\n",
       " 'title': 'Inaki Berroeta Buys 335,102 Shares of TPG Telecom Limited (ASX:TPG) Stock',\n",
       " 'description': 'TPG Telecom Limited (ASX:TPG – Get Free Report) insider Inaki Berroeta bought 335,102 shares of the firm’s stock in a transaction on Monday, March 31st. The shares were bought at an average price of A$4.80 ($2.96) per share, for a total transaction of A$1,608…',\n",
       " 'url': 'https://www.etfdailynews.com/2025/04/10/inaki-berroeta-buys-335102-shares-of-tpg-telecom-limited-asxtpg-stock/',\n",
       " 'urlToImage': 'https://www.americanbankingnews.com/wp-content/timthumb/timthumb.php?src=https://www.marketbeat.com/logos/tpg-telecom-limited-logo-1200x675.png?v=20211118121122&w=240&h=240&zc=2',\n",
       " 'publishedAt': '2025-04-10T08:12:54Z',\n",
       " 'content': 'TPG Telecom Limited (ASX:TPG – Get Free Report) insider Inaki Berroeta bought 335,102 shares of the firm’s stock in a transaction on Monday, March 31st. The shares were bought at an average price of … [+1485 chars]'}"
      ]
     },
     "execution_count": 10,
     "metadata": {},
     "output_type": "execute_result"
    }
   ],
   "source": [
    "data['articles'][0]"
   ]
  },
  {
   "cell_type": "code",
   "execution_count": 11,
   "id": "a7d33bdf",
   "metadata": {},
   "outputs": [],
   "source": [
    "articles = data['articles']"
   ]
  },
  {
   "cell_type": "code",
   "execution_count": 12,
   "id": "34cd5685",
   "metadata": {},
   "outputs": [
    {
     "name": "stdout",
     "output_type": "stream",
     "text": [
      "0 Inaki Berroeta Buys 335,102 Shares of TPG Telecom Limited (ASX:TPG) Stock\n",
      "1 In Memoriam: The 31 Billionaires Who Died Over The Past Year\n",
      "2 These 4 ASX 200 stocks are leaping higher this week. Own any?\n",
      "3 If I could only own 1 ASX stock, it would be this one\n",
      "4 2 ASX shares I think are fantastic for beginners\n",
      "5 Should I buy Brickworks or Soul Patts shares?\n",
      "6 2 ASX growth shares I'd buy to try to beat the market\n"
     ]
    }
   ],
   "source": [
    "for x,y in enumerate(articles):\n",
    "    print(f'{x} {y[\"title\"]}')"
   ]
  },
  {
   "cell_type": "code",
   "execution_count": 13,
   "id": "b87a6afc",
   "metadata": {},
   "outputs": [
    {
     "name": "stdout",
     "output_type": "stream",
     "text": [
      "\n",
      "source         {'id': None, 'name': 'ETF Daily News'}\n",
      "\n",
      "author         MarketBeat News\n",
      "\n",
      "title          Inaki Berroeta Buys 335,102 Shares of TPG Telecom Limited (ASX:TPG) Stock\n",
      "\n",
      "description    TPG Telecom Limited (ASX:TPG – Get Free Report) insider Inaki Berroeta bought 335,102 shares of the firm’s stock in a transaction on Monday, March 31st. The shares were bought at an average price of A$4.80 ($2.96) per share, for a total transaction of A$1,608…\n",
      "\n",
      "url            https://www.etfdailynews.com/2025/04/10/inaki-berroeta-buys-335102-shares-of-tpg-telecom-limited-asxtpg-stock/\n",
      "\n",
      "urlToImage     https://www.americanbankingnews.com/wp-content/timthumb/timthumb.php?src=https://www.marketbeat.com/logos/tpg-telecom-limited-logo-1200x675.png?v=20211118121122&w=240&h=240&zc=2\n",
      "\n",
      "publishedAt    2025-04-10T08:12:54Z\n",
      "\n",
      "content        TPG Telecom Limited (ASX:TPG – Get Free Report) insider Inaki Berroeta bought 335,102 shares of the firm’s stock in a transaction on Monday, March 31st. The shares were bought at an average price of … [+1485 chars]\n"
     ]
    }
   ],
   "source": [
    "for key, value in articles[0].items():\n",
    "    print(f\"\\n{key.ljust(15)}{value}\")"
   ]
  },
  {
   "cell_type": "code",
   "execution_count": 14,
   "id": "409e6a5f",
   "metadata": {},
   "outputs": [
    {
     "data": {
      "text/html": [
       "<div>\n",
       "<style scoped>\n",
       "    .dataframe tbody tr th:only-of-type {\n",
       "        vertical-align: middle;\n",
       "    }\n",
       "\n",
       "    .dataframe tbody tr th {\n",
       "        vertical-align: top;\n",
       "    }\n",
       "\n",
       "    .dataframe thead th {\n",
       "        text-align: right;\n",
       "    }\n",
       "</style>\n",
       "<table border=\"1\" class=\"dataframe\">\n",
       "  <thead>\n",
       "    <tr style=\"text-align: right;\">\n",
       "      <th></th>\n",
       "      <th>source</th>\n",
       "      <th>author</th>\n",
       "      <th>title</th>\n",
       "      <th>description</th>\n",
       "      <th>url</th>\n",
       "      <th>urlToImage</th>\n",
       "      <th>publishedAt</th>\n",
       "      <th>content</th>\n",
       "    </tr>\n",
       "  </thead>\n",
       "  <tbody>\n",
       "    <tr>\n",
       "      <th>0</th>\n",
       "      <td>{'id': None, 'name': 'ETF Daily News'}</td>\n",
       "      <td>MarketBeat News</td>\n",
       "      <td>Inaki Berroeta Buys 335,102 Shares of TPG Tele...</td>\n",
       "      <td>TPG Telecom Limited (ASX:TPG – Get Free Report...</td>\n",
       "      <td>https://www.etfdailynews.com/2025/04/10/inaki-...</td>\n",
       "      <td>https://www.americanbankingnews.com/wp-content...</td>\n",
       "      <td>2025-04-10T08:12:54Z</td>\n",
       "      <td>TPG Telecom Limited (ASX:TPG – Get Free Report...</td>\n",
       "    </tr>\n",
       "    <tr>\n",
       "      <th>1</th>\n",
       "      <td>{'id': None, 'name': 'Forbes'}</td>\n",
       "      <td>Roy Canivel, Forbes Staff, \\n Roy Canivel, For...</td>\n",
       "      <td>In Memoriam: The 31 Billionaires Who Died Over...</td>\n",
       "      <td>From cable television magnates to fashion mogu...</td>\n",
       "      <td>https://www.forbes.com/sites/roycanivel/2025/0...</td>\n",
       "      <td>https://imageio.forbes.com/specials-images/ima...</td>\n",
       "      <td>2025-04-05T11:00:00Z</td>\n",
       "      <td>From cable television magnates to fashion mogu...</td>\n",
       "    </tr>\n",
       "    <tr>\n",
       "      <th>2</th>\n",
       "      <td>{'id': None, 'name': 'Motley Fool Australia'}</td>\n",
       "      <td>Bernd Struben</td>\n",
       "      <td>These 4 ASX 200 stocks are leaping higher this...</td>\n",
       "      <td>These ASX 200 stocks have raced ahead of the b...</td>\n",
       "      <td>https://www.fool.com.au/2025/03/21/these-4-asx...</td>\n",
       "      <td>https://www.fool.com.au/wp-content/uploads/202...</td>\n",
       "      <td>2025-03-21T02:03:23Z</td>\n",
       "      <td>In a welcome turnaround, the S&amp;amp;P/ASX 200 I...</td>\n",
       "    </tr>\n",
       "    <tr>\n",
       "      <th>3</th>\n",
       "      <td>{'id': None, 'name': 'Motley Fool Australia'}</td>\n",
       "      <td>Sebastian Bowen</td>\n",
       "      <td>If I could only own 1 ASX stock, it would be t...</td>\n",
       "      <td>This stock offers investors a bit of everythin...</td>\n",
       "      <td>https://www.fool.com.au/2025/04/02/if-i-could-...</td>\n",
       "      <td>https://www.fool.com.au/wp-content/uploads/202...</td>\n",
       "      <td>2025-04-02T01:56:00Z</td>\n",
       "      <td>Like most ASX investors, I have a diversified ...</td>\n",
       "    </tr>\n",
       "    <tr>\n",
       "      <th>4</th>\n",
       "      <td>{'id': None, 'name': 'Motley Fool Australia'}</td>\n",
       "      <td>Tristan Harrison</td>\n",
       "      <td>2 ASX shares I think are fantastic for beginners</td>\n",
       "      <td>I’m a big fan of both of these investments, he...</td>\n",
       "      <td>https://www.fool.com.au/2025/04/02/2-asx-share...</td>\n",
       "      <td>https://www.fool.com.au/wp-content/uploads/202...</td>\n",
       "      <td>2025-04-02T02:48:51Z</td>\n",
       "      <td>I believe ASX shares are a great way for begin...</td>\n",
       "    </tr>\n",
       "    <tr>\n",
       "      <th>5</th>\n",
       "      <td>{'id': None, 'name': 'Motley Fool Australia'}</td>\n",
       "      <td>Sebastian Bowen</td>\n",
       "      <td>Should I buy Brickworks or Soul Patts shares?</td>\n",
       "      <td>Both of these stocks offer a two-for-one deal....</td>\n",
       "      <td>https://www.fool.com.au/2025/03/30/should-i-bu...</td>\n",
       "      <td>https://www.fool.com.au/wp-content/uploads/202...</td>\n",
       "      <td>2025-03-29T18:30:00Z</td>\n",
       "      <td>Washington H. Soul Pattinson and Co Ltd (ASX: ...</td>\n",
       "    </tr>\n",
       "    <tr>\n",
       "      <th>6</th>\n",
       "      <td>{'id': None, 'name': 'Motley Fool Australia'}</td>\n",
       "      <td>Tristan Harrison</td>\n",
       "      <td>2 ASX growth shares I'd buy to try to beat the...</td>\n",
       "      <td>Growth is usually a great way to achieve retur...</td>\n",
       "      <td>https://www.fool.com.au/2025/03/24/2-asx-growt...</td>\n",
       "      <td>https://www.fool.com.au/wp-content/uploads/202...</td>\n",
       "      <td>2025-03-23T23:19:27Z</td>\n",
       "      <td>The ASX growth share space is a great place to...</td>\n",
       "    </tr>\n",
       "  </tbody>\n",
       "</table>\n",
       "</div>"
      ],
      "text/plain": [
       "                                          source  \\\n",
       "0         {'id': None, 'name': 'ETF Daily News'}   \n",
       "1                 {'id': None, 'name': 'Forbes'}   \n",
       "2  {'id': None, 'name': 'Motley Fool Australia'}   \n",
       "3  {'id': None, 'name': 'Motley Fool Australia'}   \n",
       "4  {'id': None, 'name': 'Motley Fool Australia'}   \n",
       "5  {'id': None, 'name': 'Motley Fool Australia'}   \n",
       "6  {'id': None, 'name': 'Motley Fool Australia'}   \n",
       "\n",
       "                                              author  \\\n",
       "0                                    MarketBeat News   \n",
       "1  Roy Canivel, Forbes Staff, \\n Roy Canivel, For...   \n",
       "2                                      Bernd Struben   \n",
       "3                                    Sebastian Bowen   \n",
       "4                                   Tristan Harrison   \n",
       "5                                    Sebastian Bowen   \n",
       "6                                   Tristan Harrison   \n",
       "\n",
       "                                               title  \\\n",
       "0  Inaki Berroeta Buys 335,102 Shares of TPG Tele...   \n",
       "1  In Memoriam: The 31 Billionaires Who Died Over...   \n",
       "2  These 4 ASX 200 stocks are leaping higher this...   \n",
       "3  If I could only own 1 ASX stock, it would be t...   \n",
       "4   2 ASX shares I think are fantastic for beginners   \n",
       "5      Should I buy Brickworks or Soul Patts shares?   \n",
       "6  2 ASX growth shares I'd buy to try to beat the...   \n",
       "\n",
       "                                         description  \\\n",
       "0  TPG Telecom Limited (ASX:TPG – Get Free Report...   \n",
       "1  From cable television magnates to fashion mogu...   \n",
       "2  These ASX 200 stocks have raced ahead of the b...   \n",
       "3  This stock offers investors a bit of everythin...   \n",
       "4  I’m a big fan of both of these investments, he...   \n",
       "5  Both of these stocks offer a two-for-one deal....   \n",
       "6  Growth is usually a great way to achieve retur...   \n",
       "\n",
       "                                                 url  \\\n",
       "0  https://www.etfdailynews.com/2025/04/10/inaki-...   \n",
       "1  https://www.forbes.com/sites/roycanivel/2025/0...   \n",
       "2  https://www.fool.com.au/2025/03/21/these-4-asx...   \n",
       "3  https://www.fool.com.au/2025/04/02/if-i-could-...   \n",
       "4  https://www.fool.com.au/2025/04/02/2-asx-share...   \n",
       "5  https://www.fool.com.au/2025/03/30/should-i-bu...   \n",
       "6  https://www.fool.com.au/2025/03/24/2-asx-growt...   \n",
       "\n",
       "                                          urlToImage           publishedAt  \\\n",
       "0  https://www.americanbankingnews.com/wp-content...  2025-04-10T08:12:54Z   \n",
       "1  https://imageio.forbes.com/specials-images/ima...  2025-04-05T11:00:00Z   \n",
       "2  https://www.fool.com.au/wp-content/uploads/202...  2025-03-21T02:03:23Z   \n",
       "3  https://www.fool.com.au/wp-content/uploads/202...  2025-04-02T01:56:00Z   \n",
       "4  https://www.fool.com.au/wp-content/uploads/202...  2025-04-02T02:48:51Z   \n",
       "5  https://www.fool.com.au/wp-content/uploads/202...  2025-03-29T18:30:00Z   \n",
       "6  https://www.fool.com.au/wp-content/uploads/202...  2025-03-23T23:19:27Z   \n",
       "\n",
       "                                             content  \n",
       "0  TPG Telecom Limited (ASX:TPG – Get Free Report...  \n",
       "1  From cable television magnates to fashion mogu...  \n",
       "2  In a welcome turnaround, the S&amp;P/ASX 200 I...  \n",
       "3  Like most ASX investors, I have a diversified ...  \n",
       "4  I believe ASX shares are a great way for begin...  \n",
       "5  Washington H. Soul Pattinson and Co Ltd (ASX: ...  \n",
       "6  The ASX growth share space is a great place to...  "
      ]
     },
     "execution_count": 14,
     "metadata": {},
     "output_type": "execute_result"
    }
   ],
   "source": [
    "df = pd.DataFrame(articles)\n",
    "df"
   ]
  },
  {
   "cell_type": "code",
   "execution_count": 15,
   "id": "cbf8a97e",
   "metadata": {},
   "outputs": [
    {
     "data": {
      "text/plain": [
       "0    https://www.etfdailynews.com/2025/04/10/inaki-...\n",
       "1    https://www.forbes.com/sites/roycanivel/2025/0...\n",
       "2    https://www.fool.com.au/2025/03/21/these-4-asx...\n",
       "3    https://www.fool.com.au/2025/04/02/if-i-could-...\n",
       "4    https://www.fool.com.au/2025/04/02/2-asx-share...\n",
       "5    https://www.fool.com.au/2025/03/30/should-i-bu...\n",
       "6    https://www.fool.com.au/2025/03/24/2-asx-growt...\n",
       "Name: url, dtype: object"
      ]
     },
     "execution_count": 15,
     "metadata": {},
     "output_type": "execute_result"
    }
   ],
   "source": [
    "website_links = df['url']\n",
    "website_links"
   ]
  }
 ],
 "metadata": {
  "kernelspec": {
   "display_name": "Python 3",
   "language": "python",
   "name": "python3"
  },
  "language_info": {
   "codemirror_mode": {
    "name": "ipython",
    "version": 3
   },
   "file_extension": ".py",
   "mimetype": "text/x-python",
   "name": "python",
   "nbconvert_exporter": "python",
   "pygments_lexer": "ipython3",
   "version": "3.12.1"
  }
 },
 "nbformat": 4,
 "nbformat_minor": 5
}
