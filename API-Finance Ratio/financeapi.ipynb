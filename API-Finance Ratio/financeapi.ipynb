{
 "cells": [
  {
   "cell_type": "code",
   "execution_count": null,
   "id": "e6bfc68b",
   "metadata": {},
   "outputs": [
    {
     "name": "stdout",
     "output_type": "stream",
     "text": [
      "Chosen Stock: TPG.AX \n",
      "Last Share Price: 4.86 \n",
      "PE Ratio: -84.45\n",
      "Dividend Yield: 1.85% \n",
      "EPS: -$0.06 \n",
      "ROA: -0.55% \n",
      "ROE: -0.94% \n",
      "Current Ratio: 0.72\n",
      "DE Ratio: 0.55 \n",
      "Quick Ratio: 0.67 \n",
      "Interest Coverage Ratio: -24.17\n",
      "Net Margin: -0.02% \n",
      "Asset Turnover: 3.51 \n",
      "Inventory Turnover: 0.01\n"
     ]
    }
   ],
   "source": [
    "#Install and import necessary Python libraries\n",
    "!python3 -m pip install yfinance\n",
    "import yfinance as yf\n",
    "import financeapi as fapi #This extracts ratio formula from the financeapi.py file \n",
    "\n",
    "# API inputs for ticker\n",
    "TICKER = input('Enter a stock ticker (e.g. BHP.AX): ').upper()\n",
    "\n",
    "try: # Get stock information\n",
    "    stock = yf.Ticker(TICKER)\n",
    "    stock_prices = stock.history(period=\"10y\")\n",
    "    stock_info = stock.info\n",
    "    stock_financials = stock.financials\n",
    "    stock_balance_sheet = stock.balance_sheet\n",
    "\n",
    "    # Relevant information for ratios\n",
    "    last_price = stock_prices['Close'].iloc[-1]\n",
    "    earnings = stock_financials.loc[\"Net Income\"].iloc[0]\n",
    "    ebit = stock_financials.loc[\"EBIT\"].iloc[0]\n",
    "    ebitda = stock_financials.loc[\"EBITDA\"].iloc[0]\n",
    "    ev = stock_financials.loc[\"Minority Interests\"].iloc[0] + stock_balance_sheet.loc[\"Net Debt\"].iloc[0] \n",
    "    + stock_balance_sheet.loc[\"Total Capitalization\"].iloc[0] - stock_balance_sheet.loc[\"Cash And Cash Equivalents\"].iloc[0]\n",
    "    dividend = stock_info['lastDividendValue']\n",
    "    shares_outstanding = stock_info['sharesOutstanding']\n",
    "    total_assets = (stock_balance_sheet.loc[\"Total Assets\"].iloc[0] + stock_balance_sheet.loc[\"Total Assets\"].iloc[1]) / 2\n",
    "    total_equity = (stock_balance_sheet.loc[\"Stockholders Equity\"].iloc[0] + stock_balance_sheet.loc[\"Stockholders Equity\"].iloc[1]) / 2\n",
    "    total_debt = (stock_balance_sheet.loc[\"Total Debt\"].iloc[0] + stock_balance_sheet.loc[\"Total Debt\"].iloc[1]) / 2\n",
    "    total_revenue = stock_financials.loc[\"Total Revenue\"].iloc[0]\n",
    "    current_assets = stock_balance_sheet.loc[\"Current Assets\"].iloc[0]\n",
    "    current_liabilities = stock_balance_sheet.loc[\"Current Liabilities\"].iloc[0]\n",
    "    interest_expense = stock_financials.loc[\"Interest Expense\"].iloc[0]\n",
    "    inventory = stock_balance_sheet.loc[\"Inventory\"].iloc[0]\n",
    "\n",
    "    #Profitability Ratios\n",
    "    roa = fapi.roa(earnings, total_assets) * 100\n",
    "    roe = fapi.roe(earnings, total_equity) * 100\n",
    "    net_margin = fapi.net_margin(earnings, total_revenue)\n",
    "\n",
    "    #Efficiency Ratios\n",
    "    asset_turnover = fapi.asset_turnover(total_assets, total_revenue)\n",
    "    inventory_turnover = fapi.inventory_turnover(inventory, total_revenue)\n",
    "    \n",
    "    #Liquidity Ratios\n",
    "    current_ratio = fapi.current_ratio(current_assets, current_liabilities)\n",
    "    quick_ratio = fapi.quick_ratio(current_assets, current_liabilities, inventory)\n",
    "    \n",
    "    #Solvency Ratios\n",
    "    de_ratio = fapi.de_ratio(total_debt, total_equity)\n",
    "    interest_coverage_ratio = fapi.interest_coverage_ratio(ebit, interest_expense)\n",
    "\n",
    "    #Market Value Ratios\n",
    "    ev_ebitda = fapi.ev_ebitda(ev, ebitda)\n",
    "    dy = fapi.dividend_yield(dividend, last_price) * 100\n",
    "    eps = fapi.eps(earnings, shares_outstanding)\n",
    "    pe_ratio = fapi.pe_ratio(last_price, eps)\n",
    "\n",
    "except Exception as e:\n",
    "    print(f\"Error: {e}\")\n",
    "\n",
    "#Formatting code for negative signs \n",
    "sign = \"-\" if eps < 0 else \"\"\n",
    "\n",
    "print(f\"Chosen Stock: {TICKER} \\nLast Share Price: {last_price:.2f} \\nPE Ratio: {pe_ratio:.2f}\")\n",
    "print(f\"Dividend Yield: {dy:.2f}% \\nEPS: {sign}${abs(eps):.2f} \\nROA: {roa:.2f}% \\nROE: {roe:.2f}% \\nCurrent Ratio: {current_ratio:.2f}\")\n",
    "print(f\"DE Ratio: {de_ratio:.2f} \\nQuick Ratio: {quick_ratio:.2f} \\nInterest Coverage Ratio: {interest_coverage_ratio:.2f}\")\n",
    "print(f\"Net Margin: {(net_margin):.2f}% \\nAsset Turnover: {asset_turnover:.2f} \\nInventory Turnover: {inventory_turnover:.2f}\")"
   ]
  },
  {
   "cell_type": "code",
   "execution_count": null,
   "id": "9e714288",
   "metadata": {},
   "outputs": [
    {
     "name": "stdout",
     "output_type": "stream",
     "text": [
      "['Ordinary Shares Number', 'Share Issued', 'Net Debt', 'Total Debt', 'Tangible Book Value', 'Invested Capital', 'Working Capital', 'Net Tangible Assets', 'Capital Lease Obligations', 'Common Stock Equity', 'Total Capitalization', 'Total Equity Gross Minority Interest', 'Stockholders Equity', 'Gains Losses Not Affecting Retained Earnings', 'Other Equity Adjustments', 'Fixed Assets Revaluation Reserve', 'Retained Earnings', 'Capital Stock', 'Common Stock', 'Total Liabilities Net Minority Interest', 'Total Non Current Liabilities Net Minority Interest', 'Other Non Current Liabilities', 'Employee Benefits', 'Non Current Pension And Other Postretirement Benefit Plans', 'Long Term Debt And Capital Lease Obligation', 'Long Term Capital Lease Obligation', 'Long Term Debt', 'Long Term Provisions', 'Current Liabilities', 'Other Current Liabilities', 'Current Debt And Capital Lease Obligation', 'Current Capital Lease Obligation', 'Pensionand Other Post Retirement Benefit Plans Current', 'Current Provisions', 'Payables And Accrued Expenses', 'Payables', 'Other Payable', 'Accounts Payable', 'Total Assets', 'Total Non Current Assets', 'Other Non Current Assets', 'Non Current Deferred Assets', 'Non Current Deferred Taxes Assets', 'Non Current Accounts Receivable', 'Financial Assets', 'Goodwill And Other Intangible Assets', 'Other Intangible Assets', 'Goodwill', 'Net PPE', 'Accumulated Depreciation', 'Gross PPE', 'Leases', 'Construction In Progress', 'Other Properties', 'Machinery Furniture Equipment', 'Land And Improvements', 'Current Assets', 'Hedging Assets Current', 'Assets Held For Sale Current', 'Prepaid Assets', 'Inventory', 'Finished Goods', 'Receivables', 'Receivables Adjustments Allowances', 'Other Receivables', 'Accounts Receivable', 'Cash Cash Equivalents And Short Term Investments', 'Cash And Cash Equivalents', 'Cash Financial']\n",
      "['Tax Effect Of Unusual Items', 'Tax Rate For Calcs', 'Normalized EBITDA', 'Total Unusual Items', 'Total Unusual Items Excluding Goodwill', 'Net Income From Continuing Operation Net Minority Interest', 'Reconciled Depreciation', 'Reconciled Cost Of Revenue', 'EBITDA', 'EBIT', 'Net Interest Income', 'Interest Expense', 'Interest Income', 'Normalized Income', 'Net Income From Continuing And Discontinued Operation', 'Diluted Average Shares', 'Basic Average Shares', 'Diluted EPS', 'Basic EPS', 'Net Income Common Stockholders', 'Net Income', 'Minority Interests', 'Net Income Including Noncontrolling Interests', 'Net Income Continuous Operations', 'Tax Provision', 'Pretax Income', 'Other Income Expense', 'Other Non Operating Income Expenses', 'Special Income Charges', 'Impairment Of Capital Assets', 'Net Non Operating Interest Income Expense', 'Total Other Finance Cost', 'Interest Expense Non Operating', 'Interest Income Non Operating', 'Operating Income', 'Operating Expense', 'Other Operating Expenses', 'Depreciation Amortization Depletion Income Statement', 'Depreciation And Amortization In Income Statement', 'Amortization', 'Amortization Of Intangibles Income Statement', 'Depreciation Income Statement', 'Research And Development', 'Selling General And Administration', 'Selling And Marketing Expense', 'General And Administrative Expense', 'Other Gand A', 'Salaries And Wages', 'Gross Profit', 'Cost Of Revenue', 'Total Revenue', 'Operating Revenue']\n"
     ]
    }
   ],
   "source": [
    "#Helps determine what information is available for the stock for formula inputs\n",
    "print(stock_balance_sheet.index.tolist()) \n",
    "print(stock_financials.index.tolist())"
   ]
  }
 ],
 "metadata": {
  "kernelspec": {
   "display_name": "Python 3",
   "language": "python",
   "name": "python3"
  },
  "language_info": {
   "codemirror_mode": {
    "name": "ipython",
    "version": 3
   },
   "file_extension": ".py",
   "mimetype": "text/x-python",
   "name": "python",
   "nbconvert_exporter": "python",
   "pygments_lexer": "ipython3",
   "version": "3.12.1"
  }
 },
 "nbformat": 4,
 "nbformat_minor": 5
}
