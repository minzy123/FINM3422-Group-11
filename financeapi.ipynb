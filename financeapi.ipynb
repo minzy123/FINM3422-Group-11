{
 "cells": [
  {
   "cell_type": "code",
   "execution_count": 1,
   "id": "e6bfc68b",
   "metadata": {},
   "outputs": [
    {
     "name": "stdout",
     "output_type": "stream",
     "text": [
      "Chosen Stock: TPG.AX \n",
      "Last Share Price: 4.86 \n",
      "PE Ratio: -84.45 \n",
      "Dividend Yield: 1.85% \n",
      "EPS: -0.06 \n",
      "ROA: -0.55% \n",
      "ROE: -0.94%\n"
     ]
    }
   ],
   "source": [
    "import yfinance as yf\n",
    "import financeapi as fapi\n",
    "\n",
    "# Take user input for ticker\n",
    "TICKER = input('Enter a stock ticker (e.g. BHP.AX): ').upper()\n",
    "\n",
    "try: # Get stock information\n",
    "    stock = yf.Ticker(TICKER)\n",
    "    stock_prices = stock.history(period=\"10y\")\n",
    "    stock_info = stock.info\n",
    "    stock_financials = stock.financials\n",
    "    stock_balance_sheet = stock.balance_sheet\n",
    "\n",
    "    # Extract relevant information\n",
    "    last_price = stock_prices['Close'].iloc[-1]\n",
    "    earnings = stock_financials.loc[\"Net Income\"].iloc[0]\n",
    "    dividend = stock_info['lastDividendValue']\n",
    "    shares_outstanding = stock_info['sharesOutstanding']\n",
    "    total_assets = (stock_balance_sheet.loc[\"Total Assets\"].iloc[0] + stock_balance_sheet.loc[\"Total Assets\"].iloc[1]) / 2\n",
    "    total_equity = (stock_balance_sheet.loc[\"Stockholders Equity\"].iloc[0] + stock_balance_sheet.loc[\"Stockholders Equity\"].iloc[1]) / 2\n",
    "\n",
    "\n",
    "    dy = fapi.dividend_yield(dividend, last_price) * 100\n",
    "    eps = fapi.eps(earnings, shares_outstanding)\n",
    "    pe_ratio = fapi.pe_ratio(last_price, eps)\n",
    "    roa = fapi.roa(earnings, total_assets) * 100\n",
    "    roe = fapi.roe(earnings, total_equity) * 100\n",
    "\n",
    "except Exception as e:\n",
    "    print(f\"Error: {e}\")\n",
    "\n",
    "print(f\"Chosen Stock: {TICKER} \\nLast Share Price: {last_price:.2f} \\nPE Ratio: {pe_ratio:.2f} \\nDividend Yield: {dy:.2f}% \\nEPS: {eps:.2f} \\nROA: {roa:.2f}% \\nROE: {roe:.2f}%\")"
   ]
  },
  {
   "cell_type": "code",
   "execution_count": 4,
   "id": "0fbd1622",
   "metadata": {},
   "outputs": [
    {
     "name": "stdout",
     "output_type": "stream",
     "text": [
      "Requirement already satisfied: yfinance in /home/codespace/.python/current/lib/python3.12/site-packages (0.2.55)\n",
      "Requirement already satisfied: pandas>=1.3.0 in /home/codespace/.local/lib/python3.12/site-packages (from yfinance) (2.2.3)\n",
      "Requirement already satisfied: numpy>=1.16.5 in /home/codespace/.local/lib/python3.12/site-packages (from yfinance) (2.2.4)\n",
      "Requirement already satisfied: requests>=2.31 in /home/codespace/.local/lib/python3.12/site-packages (from yfinance) (2.32.3)\n",
      "Requirement already satisfied: multitasking>=0.0.7 in /home/codespace/.python/current/lib/python3.12/site-packages (from yfinance) (0.0.11)\n",
      "Requirement already satisfied: platformdirs>=2.0.0 in /home/codespace/.local/lib/python3.12/site-packages (from yfinance) (4.3.6)\n",
      "Requirement already satisfied: pytz>=2022.5 in /home/codespace/.local/lib/python3.12/site-packages (from yfinance) (2025.1)\n",
      "Requirement already satisfied: frozendict>=2.3.4 in /home/codespace/.python/current/lib/python3.12/site-packages (from yfinance) (2.4.6)\n",
      "Requirement already satisfied: peewee>=3.16.2 in /home/codespace/.python/current/lib/python3.12/site-packages (from yfinance) (3.17.9)\n",
      "Requirement already satisfied: beautifulsoup4>=4.11.1 in /home/codespace/.local/lib/python3.12/site-packages (from yfinance) (4.13.3)\n",
      "Requirement already satisfied: soupsieve>1.2 in /home/codespace/.local/lib/python3.12/site-packages (from beautifulsoup4>=4.11.1->yfinance) (2.6)\n",
      "Requirement already satisfied: typing-extensions>=4.0.0 in /home/codespace/.local/lib/python3.12/site-packages (from beautifulsoup4>=4.11.1->yfinance) (4.12.2)\n",
      "Requirement already satisfied: python-dateutil>=2.8.2 in /home/codespace/.local/lib/python3.12/site-packages (from pandas>=1.3.0->yfinance) (2.9.0.post0)\n",
      "Requirement already satisfied: tzdata>=2022.7 in /home/codespace/.local/lib/python3.12/site-packages (from pandas>=1.3.0->yfinance) (2025.1)\n",
      "Requirement already satisfied: charset-normalizer<4,>=2 in /home/codespace/.local/lib/python3.12/site-packages (from requests>=2.31->yfinance) (3.4.1)\n",
      "Requirement already satisfied: idna<4,>=2.5 in /home/codespace/.local/lib/python3.12/site-packages (from requests>=2.31->yfinance) (3.10)\n",
      "Requirement already satisfied: urllib3<3,>=1.21.1 in /home/codespace/.local/lib/python3.12/site-packages (from requests>=2.31->yfinance) (2.3.0)\n",
      "Requirement already satisfied: certifi>=2017.4.17 in /home/codespace/.local/lib/python3.12/site-packages (from requests>=2.31->yfinance) (2025.1.31)\n",
      "Requirement already satisfied: six>=1.5 in /home/codespace/.local/lib/python3.12/site-packages (from python-dateutil>=2.8.2->pandas>=1.3.0->yfinance) (1.17.0)\n"
     ]
    }
   ],
   "source": [
    "!python3 -m pip install yfinance"
   ]
  }
 ],
 "metadata": {
  "kernelspec": {
   "display_name": "Python 3",
   "language": "python",
   "name": "python3"
  },
  "language_info": {
   "codemirror_mode": {
    "name": "ipython",
    "version": 3
   },
   "file_extension": ".py",
   "mimetype": "text/x-python",
   "name": "python",
   "nbconvert_exporter": "python",
   "pygments_lexer": "ipython3",
   "version": "3.12.1"
  }
 },
 "nbformat": 4,
 "nbformat_minor": 5
}
